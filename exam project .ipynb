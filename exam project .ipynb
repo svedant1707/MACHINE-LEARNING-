{
 "cells": [
  {
   "cell_type": "code",
   "execution_count": 1,
   "id": "ecc9a388",
   "metadata": {},
   "outputs": [],
   "source": [
    "import numpy as np\n",
    "import pandas as pd\n",
    "import matplotlib.pyplot as plt \n",
    "import seaborn as sns\n",
    "import warnings \n",
    "warnings.filterwarnings(\"ignore\")"
   ]
  },
  {
   "cell_type": "code",
   "execution_count": 2,
   "id": "ce9998f7",
   "metadata": {},
   "outputs": [
    {
     "data": {
      "text/html": [
       "<div>\n",
       "<style scoped>\n",
       "    .dataframe tbody tr th:only-of-type {\n",
       "        vertical-align: middle;\n",
       "    }\n",
       "\n",
       "    .dataframe tbody tr th {\n",
       "        vertical-align: top;\n",
       "    }\n",
       "\n",
       "    .dataframe thead th {\n",
       "        text-align: right;\n",
       "    }\n",
       "</style>\n",
       "<table border=\"1\" class=\"dataframe\">\n",
       "  <thead>\n",
       "    <tr style=\"text-align: right;\">\n",
       "      <th></th>\n",
       "      <th>gender</th>\n",
       "      <th>race/ethnicity</th>\n",
       "      <th>parental level of education</th>\n",
       "      <th>lunch</th>\n",
       "      <th>test preparation course</th>\n",
       "      <th>math score</th>\n",
       "      <th>reading score</th>\n",
       "      <th>writing score</th>\n",
       "    </tr>\n",
       "  </thead>\n",
       "  <tbody>\n",
       "    <tr>\n",
       "      <th>0</th>\n",
       "      <td>male</td>\n",
       "      <td>group A</td>\n",
       "      <td>high school</td>\n",
       "      <td>standard</td>\n",
       "      <td>completed</td>\n",
       "      <td>67</td>\n",
       "      <td>67</td>\n",
       "      <td>63</td>\n",
       "    </tr>\n",
       "    <tr>\n",
       "      <th>1</th>\n",
       "      <td>female</td>\n",
       "      <td>group D</td>\n",
       "      <td>some high school</td>\n",
       "      <td>free/reduced</td>\n",
       "      <td>none</td>\n",
       "      <td>40</td>\n",
       "      <td>59</td>\n",
       "      <td>55</td>\n",
       "    </tr>\n",
       "    <tr>\n",
       "      <th>2</th>\n",
       "      <td>male</td>\n",
       "      <td>group E</td>\n",
       "      <td>some college</td>\n",
       "      <td>free/reduced</td>\n",
       "      <td>none</td>\n",
       "      <td>59</td>\n",
       "      <td>60</td>\n",
       "      <td>50</td>\n",
       "    </tr>\n",
       "    <tr>\n",
       "      <th>3</th>\n",
       "      <td>male</td>\n",
       "      <td>group B</td>\n",
       "      <td>high school</td>\n",
       "      <td>standard</td>\n",
       "      <td>none</td>\n",
       "      <td>77</td>\n",
       "      <td>78</td>\n",
       "      <td>68</td>\n",
       "    </tr>\n",
       "    <tr>\n",
       "      <th>4</th>\n",
       "      <td>male</td>\n",
       "      <td>group E</td>\n",
       "      <td>associate's degree</td>\n",
       "      <td>standard</td>\n",
       "      <td>completed</td>\n",
       "      <td>78</td>\n",
       "      <td>73</td>\n",
       "      <td>68</td>\n",
       "    </tr>\n",
       "    <tr>\n",
       "      <th>...</th>\n",
       "      <td>...</td>\n",
       "      <td>...</td>\n",
       "      <td>...</td>\n",
       "      <td>...</td>\n",
       "      <td>...</td>\n",
       "      <td>...</td>\n",
       "      <td>...</td>\n",
       "      <td>...</td>\n",
       "    </tr>\n",
       "    <tr>\n",
       "      <th>995</th>\n",
       "      <td>male</td>\n",
       "      <td>group C</td>\n",
       "      <td>high school</td>\n",
       "      <td>standard</td>\n",
       "      <td>none</td>\n",
       "      <td>73</td>\n",
       "      <td>70</td>\n",
       "      <td>65</td>\n",
       "    </tr>\n",
       "    <tr>\n",
       "      <th>996</th>\n",
       "      <td>male</td>\n",
       "      <td>group D</td>\n",
       "      <td>associate's degree</td>\n",
       "      <td>free/reduced</td>\n",
       "      <td>completed</td>\n",
       "      <td>85</td>\n",
       "      <td>91</td>\n",
       "      <td>92</td>\n",
       "    </tr>\n",
       "    <tr>\n",
       "      <th>997</th>\n",
       "      <td>female</td>\n",
       "      <td>group C</td>\n",
       "      <td>some high school</td>\n",
       "      <td>free/reduced</td>\n",
       "      <td>none</td>\n",
       "      <td>32</td>\n",
       "      <td>35</td>\n",
       "      <td>41</td>\n",
       "    </tr>\n",
       "    <tr>\n",
       "      <th>998</th>\n",
       "      <td>female</td>\n",
       "      <td>group C</td>\n",
       "      <td>some college</td>\n",
       "      <td>standard</td>\n",
       "      <td>none</td>\n",
       "      <td>73</td>\n",
       "      <td>74</td>\n",
       "      <td>82</td>\n",
       "    </tr>\n",
       "    <tr>\n",
       "      <th>999</th>\n",
       "      <td>male</td>\n",
       "      <td>group A</td>\n",
       "      <td>some college</td>\n",
       "      <td>standard</td>\n",
       "      <td>completed</td>\n",
       "      <td>65</td>\n",
       "      <td>60</td>\n",
       "      <td>62</td>\n",
       "    </tr>\n",
       "  </tbody>\n",
       "</table>\n",
       "<p>1000 rows × 8 columns</p>\n",
       "</div>"
      ],
      "text/plain": [
       "     gender race/ethnicity parental level of education         lunch  \\\n",
       "0      male        group A                 high school      standard   \n",
       "1    female        group D            some high school  free/reduced   \n",
       "2      male        group E                some college  free/reduced   \n",
       "3      male        group B                 high school      standard   \n",
       "4      male        group E          associate's degree      standard   \n",
       "..      ...            ...                         ...           ...   \n",
       "995    male        group C                 high school      standard   \n",
       "996    male        group D          associate's degree  free/reduced   \n",
       "997  female        group C            some high school  free/reduced   \n",
       "998  female        group C                some college      standard   \n",
       "999    male        group A                some college      standard   \n",
       "\n",
       "    test preparation course  math score  reading score  writing score  \n",
       "0                 completed          67             67             63  \n",
       "1                      none          40             59             55  \n",
       "2                      none          59             60             50  \n",
       "3                      none          77             78             68  \n",
       "4                 completed          78             73             68  \n",
       "..                      ...         ...            ...            ...  \n",
       "995                    none          73             70             65  \n",
       "996               completed          85             91             92  \n",
       "997                    none          32             35             41  \n",
       "998                    none          73             74             82  \n",
       "999               completed          65             60             62  \n",
       "\n",
       "[1000 rows x 8 columns]"
      ]
     },
     "execution_count": 2,
     "metadata": {},
     "output_type": "execute_result"
    }
   ],
   "source": [
    "df=pd.read_csv(r'C:\\Users\\sveda\\OneDrive\\Desktop\\ml new project\\exams.csv')\n",
    "df"
   ]
  },
  {
   "cell_type": "code",
   "execution_count": 3,
   "id": "50458ec7",
   "metadata": {},
   "outputs": [
    {
     "name": "stdout",
     "output_type": "stream",
     "text": [
      "<class 'pandas.core.frame.DataFrame'>\n",
      "RangeIndex: 1000 entries, 0 to 999\n",
      "Data columns (total 8 columns):\n",
      " #   Column                       Non-Null Count  Dtype \n",
      "---  ------                       --------------  ----- \n",
      " 0   gender                       1000 non-null   object\n",
      " 1   race/ethnicity               1000 non-null   object\n",
      " 2   parental level of education  1000 non-null   object\n",
      " 3   lunch                        1000 non-null   object\n",
      " 4   test preparation course      1000 non-null   object\n",
      " 5   math score                   1000 non-null   int64 \n",
      " 6   reading score                1000 non-null   int64 \n",
      " 7   writing score                1000 non-null   int64 \n",
      "dtypes: int64(3), object(5)\n",
      "memory usage: 62.6+ KB\n"
     ]
    }
   ],
   "source": [
    "df.info()"
   ]
  },
  {
   "cell_type": "code",
   "execution_count": 4,
   "id": "f8fd5696",
   "metadata": {},
   "outputs": [
    {
     "data": {
      "text/html": [
       "<div>\n",
       "<style scoped>\n",
       "    .dataframe tbody tr th:only-of-type {\n",
       "        vertical-align: middle;\n",
       "    }\n",
       "\n",
       "    .dataframe tbody tr th {\n",
       "        vertical-align: top;\n",
       "    }\n",
       "\n",
       "    .dataframe thead th {\n",
       "        text-align: right;\n",
       "    }\n",
       "</style>\n",
       "<table border=\"1\" class=\"dataframe\">\n",
       "  <thead>\n",
       "    <tr style=\"text-align: right;\">\n",
       "      <th></th>\n",
       "      <th>math score</th>\n",
       "      <th>reading score</th>\n",
       "      <th>writing score</th>\n",
       "    </tr>\n",
       "  </thead>\n",
       "  <tbody>\n",
       "    <tr>\n",
       "      <th>count</th>\n",
       "      <td>1000.000000</td>\n",
       "      <td>1000.000000</td>\n",
       "      <td>1000.000000</td>\n",
       "    </tr>\n",
       "    <tr>\n",
       "      <th>mean</th>\n",
       "      <td>66.396000</td>\n",
       "      <td>69.002000</td>\n",
       "      <td>67.738000</td>\n",
       "    </tr>\n",
       "    <tr>\n",
       "      <th>std</th>\n",
       "      <td>15.402871</td>\n",
       "      <td>14.737272</td>\n",
       "      <td>15.600985</td>\n",
       "    </tr>\n",
       "    <tr>\n",
       "      <th>min</th>\n",
       "      <td>13.000000</td>\n",
       "      <td>27.000000</td>\n",
       "      <td>23.000000</td>\n",
       "    </tr>\n",
       "    <tr>\n",
       "      <th>25%</th>\n",
       "      <td>56.000000</td>\n",
       "      <td>60.000000</td>\n",
       "      <td>58.000000</td>\n",
       "    </tr>\n",
       "    <tr>\n",
       "      <th>50%</th>\n",
       "      <td>66.500000</td>\n",
       "      <td>70.000000</td>\n",
       "      <td>68.000000</td>\n",
       "    </tr>\n",
       "    <tr>\n",
       "      <th>75%</th>\n",
       "      <td>77.000000</td>\n",
       "      <td>79.000000</td>\n",
       "      <td>79.000000</td>\n",
       "    </tr>\n",
       "    <tr>\n",
       "      <th>max</th>\n",
       "      <td>100.000000</td>\n",
       "      <td>100.000000</td>\n",
       "      <td>100.000000</td>\n",
       "    </tr>\n",
       "  </tbody>\n",
       "</table>\n",
       "</div>"
      ],
      "text/plain": [
       "        math score  reading score  writing score\n",
       "count  1000.000000    1000.000000    1000.000000\n",
       "mean     66.396000      69.002000      67.738000\n",
       "std      15.402871      14.737272      15.600985\n",
       "min      13.000000      27.000000      23.000000\n",
       "25%      56.000000      60.000000      58.000000\n",
       "50%      66.500000      70.000000      68.000000\n",
       "75%      77.000000      79.000000      79.000000\n",
       "max     100.000000     100.000000     100.000000"
      ]
     },
     "execution_count": 4,
     "metadata": {},
     "output_type": "execute_result"
    }
   ],
   "source": [
    "df.describe()"
   ]
  },
  {
   "cell_type": "code",
   "execution_count": 5,
   "id": "912b9c02",
   "metadata": {},
   "outputs": [
    {
     "data": {
      "text/plain": [
       "gender                         0\n",
       "race/ethnicity                 0\n",
       "parental level of education    0\n",
       "lunch                          0\n",
       "test preparation course        0\n",
       "math score                     0\n",
       "reading score                  0\n",
       "writing score                  0\n",
       "dtype: int64"
      ]
     },
     "execution_count": 5,
     "metadata": {},
     "output_type": "execute_result"
    }
   ],
   "source": [
    "df.isnull().sum()"
   ]
  },
  {
   "cell_type": "code",
   "execution_count": 6,
   "id": "43b2a250",
   "metadata": {},
   "outputs": [],
   "source": [
    "# here our target is = \"test preparation course\" \n",
    "# Rest all will be treated as features."
   ]
  },
  {
   "cell_type": "markdown",
   "id": "242a0cef",
   "metadata": {},
   "source": [
    "# Univarient Analysis \n"
   ]
  },
  {
   "cell_type": "code",
   "execution_count": 7,
   "id": "801dc3eb",
   "metadata": {},
   "outputs": [
    {
     "data": {
      "text/plain": [
       "<Axes: xlabel='test preparation course', ylabel='count'>"
      ]
     },
     "execution_count": 7,
     "metadata": {},
     "output_type": "execute_result"
    },
    {
     "data": {
      "image/png": "[encoded data removed]",
      "text/plain": [
       "<Figure size 640x480 with 1 Axes>"
      ]
     },
     "metadata": {},
     "output_type": "display_data"
    }
   ],
   "source": [
    "sns.countplot(data=df,x='test preparation course')"
   ]
  },
  {
   "cell_type": "code",
   "execution_count": 8,
   "id": "15bb4de9",
   "metadata": {},
   "outputs": [
    {
     "data": {
      "text/plain": [
       "<Axes: xlabel='test preparation course', ylabel='count'>"
      ]
     },
     "execution_count": 8,
     "metadata": {},
     "output_type": "execute_result"
    },
    {
     "data": {
      "image/png": "[encoded data removed]",
      "text/plain": [
       "<Figure size 640x480 with 1 Axes>"
      ]
     },
     "metadata": {},
     "output_type": "display_data"
    }
   ],
   "source": [
    "sns.countplot(data=df,x='test preparation course',hue='gender')"
   ]
  },
  {
   "cell_type": "code",
   "execution_count": 9,
   "id": "31ecdfae",
   "metadata": {},
   "outputs": [
    {
     "data": {
      "text/plain": [
       "<Axes: xlabel='test preparation course', ylabel='count'>"
      ]
     },
     "execution_count": 9,
     "metadata": {},
     "output_type": "execute_result"
    },
    {
     "data": {
      "image/png": "[encoded data removed]",
      "text/plain": [
       "<Figure size 640x480 with 1 Axes>"
      ]
     },
     "metadata": {},
     "output_type": "display_data"
    }
   ],
   "source": [
    "sns.countplot(data=df,x='test preparation course',hue='race/ethnicity')"
   ]
  },
  {
   "cell_type": "code",
   "execution_count": 10,
   "id": "9db71907",
   "metadata": {},
   "outputs": [
    {
     "data": {
      "text/plain": [
       "<Axes: xlabel='test preparation course', ylabel='count'>"
      ]
     },
     "execution_count": 10,
     "metadata": {},
     "output_type": "execute_result"
    },
    {
     "data": {
      "image/png": "[encoded data removed]",
      "text/plain": [
       "<Figure size 640x480 with 1 Axes>"
      ]
     },
     "metadata": {},
     "output_type": "display_data"
    }
   ],
   "source": [
    "sns.countplot(data=df,x='test preparation course',hue='lunch')"
   ]
  },
  {
   "cell_type": "code",
   "execution_count": 11,
   "id": "3ae86c39",
   "metadata": {},
   "outputs": [],
   "source": [
    "# lets update NaN values"
   ]
  },
  {
   "cell_type": "code",
   "execution_count": 12,
   "id": "f9c778ee",
   "metadata": {},
   "outputs": [
    {
     "data": {
      "text/plain": [
       "<Axes: xlabel='writing score', ylabel='lunch'>"
      ]
     },
     "execution_count": 12,
     "metadata": {},
     "output_type": "execute_result"
    },
    {
     "data": {
      "image/png": "[encoded data removed]",
      "text/plain": [
       "<Figure size 640x480 with 1 Axes>"
      ]
     },
     "metadata": {},
     "output_type": "display_data"
    }
   ],
   "source": [
    "sns.boxplot(data=df,x='writing score',y='lunch')"
   ]
  },
  {
   "cell_type": "code",
   "execution_count": 13,
   "id": "7c7020bf",
   "metadata": {},
   "outputs": [
    {
     "data": {
      "text/html": [
       "<div>\n",
       "<style scoped>\n",
       "    .dataframe tbody tr th:only-of-type {\n",
       "        vertical-align: middle;\n",
       "    }\n",
       "\n",
       "    .dataframe tbody tr th {\n",
       "        vertical-align: top;\n",
       "    }\n",
       "\n",
       "    .dataframe thead th {\n",
       "        text-align: right;\n",
       "    }\n",
       "</style>\n",
       "<table border=\"1\" class=\"dataframe\">\n",
       "  <thead>\n",
       "    <tr style=\"text-align: right;\">\n",
       "      <th></th>\n",
       "      <th>math score</th>\n",
       "      <th>reading score</th>\n",
       "      <th>writing score</th>\n",
       "    </tr>\n",
       "  </thead>\n",
       "  <tbody>\n",
       "    <tr>\n",
       "      <th>math score</th>\n",
       "      <td>1.000000</td>\n",
       "      <td>0.819398</td>\n",
       "      <td>0.805944</td>\n",
       "    </tr>\n",
       "    <tr>\n",
       "      <th>reading score</th>\n",
       "      <td>0.819398</td>\n",
       "      <td>1.000000</td>\n",
       "      <td>0.954274</td>\n",
       "    </tr>\n",
       "    <tr>\n",
       "      <th>writing score</th>\n",
       "      <td>0.805944</td>\n",
       "      <td>0.954274</td>\n",
       "      <td>1.000000</td>\n",
       "    </tr>\n",
       "  </tbody>\n",
       "</table>\n",
       "</div>"
      ],
      "text/plain": [
       "               math score  reading score  writing score\n",
       "math score       1.000000       0.819398       0.805944\n",
       "reading score    0.819398       1.000000       0.954274\n",
       "writing score    0.805944       0.954274       1.000000"
      ]
     },
     "execution_count": 13,
     "metadata": {},
     "output_type": "execute_result"
    }
   ],
   "source": [
    "df.corr()"
   ]
  },
  {
   "cell_type": "code",
   "execution_count": 14,
   "id": "53606a27",
   "metadata": {
    "scrolled": false
   },
   "outputs": [
    {
     "data": {
      "text/plain": [
       "<Axes: >"
      ]
     },
     "execution_count": 14,
     "metadata": {},
     "output_type": "execute_result"
    },
    {
     "data": {
      "image/png": "[encoded data removed]",
      "text/plain": [
       "<Figure size 700x700 with 2 Axes>"
      ]
     },
     "metadata": {},
     "output_type": "display_data"
    }
   ],
   "source": [
    "plt.figure(figsize=(7,7))\n",
    "sns.heatmap(df.corr(),annot=True)"
   ]
  },
  {
   "cell_type": "markdown",
   "id": "966ce3f4",
   "metadata": {},
   "source": [
    "# we will Keep the Name column just to check the accuracy."
   ]
  },
  {
   "cell_type": "code",
   "execution_count": 15,
   "id": "6460b039",
   "metadata": {},
   "outputs": [],
   "source": [
    "# lets check for outliers and remove the same "
   ]
  },
  {
   "cell_type": "code",
   "execution_count": 16,
   "id": "8928a60b",
   "metadata": {},
   "outputs": [],
   "source": [
    "Numcol = []\n",
    "Catcol = []\n",
    "\n",
    "for x in df.dtypes.index:\n",
    "    if df.dtypes[x]=='object':\n",
    "        Catcol.append(x)\n",
    "    else:\n",
    "        Numcol.append(x)"
   ]
  },
  {
   "cell_type": "code",
   "execution_count": 17,
   "id": "20dc1093",
   "metadata": {},
   "outputs": [
    {
     "data": {
      "text/plain": [
       "['math score', 'reading score', 'writing score']"
      ]
     },
     "execution_count": 17,
     "metadata": {},
     "output_type": "execute_result"
    }
   ],
   "source": [
    "Numcol"
   ]
  },
  {
   "cell_type": "code",
   "execution_count": 18,
   "id": "a43e0645",
   "metadata": {},
   "outputs": [
    {
     "data": {
      "text/plain": [
       "['gender',\n",
       " 'race/ethnicity',\n",
       " 'parental level of education',\n",
       " 'lunch',\n",
       " 'test preparation course']"
      ]
     },
     "execution_count": 18,
     "metadata": {},
     "output_type": "execute_result"
    }
   ],
   "source": [
    "Catcol"
   ]
  },
  {
   "cell_type": "code",
   "execution_count": 19,
   "id": "dc2b85ca",
   "metadata": {},
   "outputs": [],
   "source": [
    "from sklearn.preprocessing import OrdinalEncoder\n",
    "oe=OrdinalEncoder()\n",
    "df[Catcol]=oe.fit_transform(df[Catcol])"
   ]
  },
  {
   "cell_type": "code",
   "execution_count": 20,
   "id": "d3cb97b5",
   "metadata": {},
   "outputs": [
    {
     "data": {
      "text/html": [
       "<div>\n",
       "<style scoped>\n",
       "    .dataframe tbody tr th:only-of-type {\n",
       "        vertical-align: middle;\n",
       "    }\n",
       "\n",
       "    .dataframe tbody tr th {\n",
       "        vertical-align: top;\n",
       "    }\n",
       "\n",
       "    .dataframe thead th {\n",
       "        text-align: right;\n",
       "    }\n",
       "</style>\n",
       "<table border=\"1\" class=\"dataframe\">\n",
       "  <thead>\n",
       "    <tr style=\"text-align: right;\">\n",
       "      <th></th>\n",
       "      <th>gender</th>\n",
       "      <th>race/ethnicity</th>\n",
       "      <th>parental level of education</th>\n",
       "      <th>lunch</th>\n",
       "      <th>test preparation course</th>\n",
       "      <th>math score</th>\n",
       "      <th>reading score</th>\n",
       "      <th>writing score</th>\n",
       "    </tr>\n",
       "  </thead>\n",
       "  <tbody>\n",
       "    <tr>\n",
       "      <th>0</th>\n",
       "      <td>1.0</td>\n",
       "      <td>0.0</td>\n",
       "      <td>2.0</td>\n",
       "      <td>1.0</td>\n",
       "      <td>0.0</td>\n",
       "      <td>67</td>\n",
       "      <td>67</td>\n",
       "      <td>63</td>\n",
       "    </tr>\n",
       "    <tr>\n",
       "      <th>1</th>\n",
       "      <td>0.0</td>\n",
       "      <td>3.0</td>\n",
       "      <td>5.0</td>\n",
       "      <td>0.0</td>\n",
       "      <td>1.0</td>\n",
       "      <td>40</td>\n",
       "      <td>59</td>\n",
       "      <td>55</td>\n",
       "    </tr>\n",
       "    <tr>\n",
       "      <th>2</th>\n",
       "      <td>1.0</td>\n",
       "      <td>4.0</td>\n",
       "      <td>4.0</td>\n",
       "      <td>0.0</td>\n",
       "      <td>1.0</td>\n",
       "      <td>59</td>\n",
       "      <td>60</td>\n",
       "      <td>50</td>\n",
       "    </tr>\n",
       "    <tr>\n",
       "      <th>3</th>\n",
       "      <td>1.0</td>\n",
       "      <td>1.0</td>\n",
       "      <td>2.0</td>\n",
       "      <td>1.0</td>\n",
       "      <td>1.0</td>\n",
       "      <td>77</td>\n",
       "      <td>78</td>\n",
       "      <td>68</td>\n",
       "    </tr>\n",
       "    <tr>\n",
       "      <th>4</th>\n",
       "      <td>1.0</td>\n",
       "      <td>4.0</td>\n",
       "      <td>0.0</td>\n",
       "      <td>1.0</td>\n",
       "      <td>0.0</td>\n",
       "      <td>78</td>\n",
       "      <td>73</td>\n",
       "      <td>68</td>\n",
       "    </tr>\n",
       "    <tr>\n",
       "      <th>...</th>\n",
       "      <td>...</td>\n",
       "      <td>...</td>\n",
       "      <td>...</td>\n",
       "      <td>...</td>\n",
       "      <td>...</td>\n",
       "      <td>...</td>\n",
       "      <td>...</td>\n",
       "      <td>...</td>\n",
       "    </tr>\n",
       "    <tr>\n",
       "      <th>995</th>\n",
       "      <td>1.0</td>\n",
       "      <td>2.0</td>\n",
       "      <td>2.0</td>\n",
       "      <td>1.0</td>\n",
       "      <td>1.0</td>\n",
       "      <td>73</td>\n",
       "      <td>70</td>\n",
       "      <td>65</td>\n",
       "    </tr>\n",
       "    <tr>\n",
       "      <th>996</th>\n",
       "      <td>1.0</td>\n",
       "      <td>3.0</td>\n",
       "      <td>0.0</td>\n",
       "      <td>0.0</td>\n",
       "      <td>0.0</td>\n",
       "      <td>85</td>\n",
       "      <td>91</td>\n",
       "      <td>92</td>\n",
       "    </tr>\n",
       "    <tr>\n",
       "      <th>997</th>\n",
       "      <td>0.0</td>\n",
       "      <td>2.0</td>\n",
       "      <td>5.0</td>\n",
       "      <td>0.0</td>\n",
       "      <td>1.0</td>\n",
       "      <td>32</td>\n",
       "      <td>35</td>\n",
       "      <td>41</td>\n",
       "    </tr>\n",
       "    <tr>\n",
       "      <th>998</th>\n",
       "      <td>0.0</td>\n",
       "      <td>2.0</td>\n",
       "      <td>4.0</td>\n",
       "      <td>1.0</td>\n",
       "      <td>1.0</td>\n",
       "      <td>73</td>\n",
       "      <td>74</td>\n",
       "      <td>82</td>\n",
       "    </tr>\n",
       "    <tr>\n",
       "      <th>999</th>\n",
       "      <td>1.0</td>\n",
       "      <td>0.0</td>\n",
       "      <td>4.0</td>\n",
       "      <td>1.0</td>\n",
       "      <td>0.0</td>\n",
       "      <td>65</td>\n",
       "      <td>60</td>\n",
       "      <td>62</td>\n",
       "    </tr>\n",
       "  </tbody>\n",
       "</table>\n",
       "<p>1000 rows × 8 columns</p>\n",
       "</div>"
      ],
      "text/plain": [
       "     gender  race/ethnicity  parental level of education  lunch  \\\n",
       "0       1.0             0.0                          2.0    1.0   \n",
       "1       0.0             3.0                          5.0    0.0   \n",
       "2       1.0             4.0                          4.0    0.0   \n",
       "3       1.0             1.0                          2.0    1.0   \n",
       "4       1.0             4.0                          0.0    1.0   \n",
       "..      ...             ...                          ...    ...   \n",
       "995     1.0             2.0                          2.0    1.0   \n",
       "996     1.0             3.0                          0.0    0.0   \n",
       "997     0.0             2.0                          5.0    0.0   \n",
       "998     0.0             2.0                          4.0    1.0   \n",
       "999     1.0             0.0                          4.0    1.0   \n",
       "\n",
       "     test preparation course  math score  reading score  writing score  \n",
       "0                        0.0          67             67             63  \n",
       "1                        1.0          40             59             55  \n",
       "2                        1.0          59             60             50  \n",
       "3                        1.0          77             78             68  \n",
       "4                        0.0          78             73             68  \n",
       "..                       ...         ...            ...            ...  \n",
       "995                      1.0          73             70             65  \n",
       "996                      0.0          85             91             92  \n",
       "997                      1.0          32             35             41  \n",
       "998                      1.0          73             74             82  \n",
       "999                      0.0          65             60             62  \n",
       "\n",
       "[1000 rows x 8 columns]"
      ]
     },
     "execution_count": 20,
     "metadata": {},
     "output_type": "execute_result"
    }
   ],
   "source": [
    "df"
   ]
  },
  {
   "cell_type": "code",
   "execution_count": 21,
   "id": "f4936e46",
   "metadata": {},
   "outputs": [
    {
     "name": "stdout",
     "output_type": "stream",
     "text": [
      "<class 'pandas.core.frame.DataFrame'>\n",
      "RangeIndex: 1000 entries, 0 to 999\n",
      "Data columns (total 8 columns):\n",
      " #   Column                       Non-Null Count  Dtype  \n",
      "---  ------                       --------------  -----  \n",
      " 0   gender                       1000 non-null   float64\n",
      " 1   race/ethnicity               1000 non-null   float64\n",
      " 2   parental level of education  1000 non-null   float64\n",
      " 3   lunch                        1000 non-null   float64\n",
      " 4   test preparation course      1000 non-null   float64\n",
      " 5   math score                   1000 non-null   int64  \n",
      " 6   reading score                1000 non-null   int64  \n",
      " 7   writing score                1000 non-null   int64  \n",
      "dtypes: float64(5), int64(3)\n",
      "memory usage: 62.6 KB\n"
     ]
    }
   ],
   "source": [
    "df.info()"
   ]
  },
  {
   "cell_type": "code",
   "execution_count": 22,
   "id": "19fe61a6",
   "metadata": {},
   "outputs": [
    {
     "data": {
      "image/png": "[encoded data removed]",
      "text/plain": [
       "<Figure size 1200x1200 with 3 Axes>"
      ]
     },
     "metadata": {},
     "output_type": "display_data"
    }
   ],
   "source": [
    "plt.figure(figsize=(12,12))\n",
    "pltn=1\n",
    "\n",
    "for i in Numcol:\n",
    "    if pltn<=15:\n",
    "        ax=plt.subplot(6,4,pltn)\n",
    "        sns.boxplot(df[i])\n",
    "        plt.xlabel(i,fontsize=18)\n",
    "    pltn=pltn+1\n",
    "plt.tight_layout()"
   ]
  },
  {
   "cell_type": "code",
   "execution_count": 23,
   "id": "c561bf32",
   "metadata": {},
   "outputs": [],
   "source": [
    "x = df.drop(\"test preparation course\",axis = 1)   # segrated all features from Target \n",
    "y = df['test preparation course'] "
   ]
  },
  {
   "cell_type": "code",
   "execution_count": 24,
   "id": "47c63daf",
   "metadata": {},
   "outputs": [
    {
     "data": {
      "text/html": [
       "<div>\n",
       "<style scoped>\n",
       "    .dataframe tbody tr th:only-of-type {\n",
       "        vertical-align: middle;\n",
       "    }\n",
       "\n",
       "    .dataframe tbody tr th {\n",
       "        vertical-align: top;\n",
       "    }\n",
       "\n",
       "    .dataframe thead th {\n",
       "        text-align: right;\n",
       "    }\n",
       "</style>\n",
       "<table border=\"1\" class=\"dataframe\">\n",
       "  <thead>\n",
       "    <tr style=\"text-align: right;\">\n",
       "      <th></th>\n",
       "      <th>gender</th>\n",
       "      <th>race/ethnicity</th>\n",
       "      <th>parental level of education</th>\n",
       "      <th>lunch</th>\n",
       "      <th>math score</th>\n",
       "      <th>reading score</th>\n",
       "      <th>writing score</th>\n",
       "    </tr>\n",
       "  </thead>\n",
       "  <tbody>\n",
       "    <tr>\n",
       "      <th>0</th>\n",
       "      <td>1.0</td>\n",
       "      <td>0.0</td>\n",
       "      <td>2.0</td>\n",
       "      <td>1.0</td>\n",
       "      <td>67</td>\n",
       "      <td>67</td>\n",
       "      <td>63</td>\n",
       "    </tr>\n",
       "    <tr>\n",
       "      <th>1</th>\n",
       "      <td>0.0</td>\n",
       "      <td>3.0</td>\n",
       "      <td>5.0</td>\n",
       "      <td>0.0</td>\n",
       "      <td>40</td>\n",
       "      <td>59</td>\n",
       "      <td>55</td>\n",
       "    </tr>\n",
       "    <tr>\n",
       "      <th>2</th>\n",
       "      <td>1.0</td>\n",
       "      <td>4.0</td>\n",
       "      <td>4.0</td>\n",
       "      <td>0.0</td>\n",
       "      <td>59</td>\n",
       "      <td>60</td>\n",
       "      <td>50</td>\n",
       "    </tr>\n",
       "    <tr>\n",
       "      <th>3</th>\n",
       "      <td>1.0</td>\n",
       "      <td>1.0</td>\n",
       "      <td>2.0</td>\n",
       "      <td>1.0</td>\n",
       "      <td>77</td>\n",
       "      <td>78</td>\n",
       "      <td>68</td>\n",
       "    </tr>\n",
       "    <tr>\n",
       "      <th>4</th>\n",
       "      <td>1.0</td>\n",
       "      <td>4.0</td>\n",
       "      <td>0.0</td>\n",
       "      <td>1.0</td>\n",
       "      <td>78</td>\n",
       "      <td>73</td>\n",
       "      <td>68</td>\n",
       "    </tr>\n",
       "    <tr>\n",
       "      <th>...</th>\n",
       "      <td>...</td>\n",
       "      <td>...</td>\n",
       "      <td>...</td>\n",
       "      <td>...</td>\n",
       "      <td>...</td>\n",
       "      <td>...</td>\n",
       "      <td>...</td>\n",
       "    </tr>\n",
       "    <tr>\n",
       "      <th>995</th>\n",
       "      <td>1.0</td>\n",
       "      <td>2.0</td>\n",
       "      <td>2.0</td>\n",
       "      <td>1.0</td>\n",
       "      <td>73</td>\n",
       "      <td>70</td>\n",
       "      <td>65</td>\n",
       "    </tr>\n",
       "    <tr>\n",
       "      <th>996</th>\n",
       "      <td>1.0</td>\n",
       "      <td>3.0</td>\n",
       "      <td>0.0</td>\n",
       "      <td>0.0</td>\n",
       "      <td>85</td>\n",
       "      <td>91</td>\n",
       "      <td>92</td>\n",
       "    </tr>\n",
       "    <tr>\n",
       "      <th>997</th>\n",
       "      <td>0.0</td>\n",
       "      <td>2.0</td>\n",
       "      <td>5.0</td>\n",
       "      <td>0.0</td>\n",
       "      <td>32</td>\n",
       "      <td>35</td>\n",
       "      <td>41</td>\n",
       "    </tr>\n",
       "    <tr>\n",
       "      <th>998</th>\n",
       "      <td>0.0</td>\n",
       "      <td>2.0</td>\n",
       "      <td>4.0</td>\n",
       "      <td>1.0</td>\n",
       "      <td>73</td>\n",
       "      <td>74</td>\n",
       "      <td>82</td>\n",
       "    </tr>\n",
       "    <tr>\n",
       "      <th>999</th>\n",
       "      <td>1.0</td>\n",
       "      <td>0.0</td>\n",
       "      <td>4.0</td>\n",
       "      <td>1.0</td>\n",
       "      <td>65</td>\n",
       "      <td>60</td>\n",
       "      <td>62</td>\n",
       "    </tr>\n",
       "  </tbody>\n",
       "</table>\n",
       "<p>1000 rows × 7 columns</p>\n",
       "</div>"
      ],
      "text/plain": [
       "     gender  race/ethnicity  parental level of education  lunch  math score  \\\n",
       "0       1.0             0.0                          2.0    1.0          67   \n",
       "1       0.0             3.0                          5.0    0.0          40   \n",
       "2       1.0             4.0                          4.0    0.0          59   \n",
       "3       1.0             1.0                          2.0    1.0          77   \n",
       "4       1.0             4.0                          0.0    1.0          78   \n",
       "..      ...             ...                          ...    ...         ...   \n",
       "995     1.0             2.0                          2.0    1.0          73   \n",
       "996     1.0             3.0                          0.0    0.0          85   \n",
       "997     0.0             2.0                          5.0    0.0          32   \n",
       "998     0.0             2.0                          4.0    1.0          73   \n",
       "999     1.0             0.0                          4.0    1.0          65   \n",
       "\n",
       "     reading score  writing score  \n",
       "0               67             63  \n",
       "1               59             55  \n",
       "2               60             50  \n",
       "3               78             68  \n",
       "4               73             68  \n",
       "..             ...            ...  \n",
       "995             70             65  \n",
       "996             91             92  \n",
       "997             35             41  \n",
       "998             74             82  \n",
       "999             60             62  \n",
       "\n",
       "[1000 rows x 7 columns]"
      ]
     },
     "execution_count": 24,
     "metadata": {},
     "output_type": "execute_result"
    }
   ],
   "source": [
    "x"
   ]
  },
  {
   "cell_type": "code",
   "execution_count": 25,
   "id": "33043a7e",
   "metadata": {},
   "outputs": [
    {
     "data": {
      "text/plain": [
       "0      0.0\n",
       "1      1.0\n",
       "2      1.0\n",
       "3      1.0\n",
       "4      0.0\n",
       "      ... \n",
       "995    1.0\n",
       "996    0.0\n",
       "997    1.0\n",
       "998    1.0\n",
       "999    0.0\n",
       "Name: test preparation course, Length: 1000, dtype: float64"
      ]
     },
     "execution_count": 25,
     "metadata": {},
     "output_type": "execute_result"
    }
   ],
   "source": [
    "y"
   ]
  },
  {
   "cell_type": "code",
   "execution_count": 26,
   "id": "4f6489dd",
   "metadata": {},
   "outputs": [],
   "source": [
    "# we don't need to perfom scaling here as we don't have -----"
   ]
  },
  {
   "cell_type": "code",
   "execution_count": 27,
   "id": "c75e39be",
   "metadata": {},
   "outputs": [],
   "source": [
    "from sklearn.model_selection import train_test_split\n",
    "xtrain,xtest,ytrain,ytest=train_test_split(x,y,test_size=0.3,random_state=1)"
   ]
  },
  {
   "cell_type": "code",
   "execution_count": 28,
   "id": "0d6028a7",
   "metadata": {},
   "outputs": [],
   "source": [
    "# Logistic Regression \n",
    "from sklearn.linear_model import LogisticRegression\n",
    "lr=LogisticRegression()\n",
    "lr.fit(xtrain,ytrain)\n",
    "ypred=lr.predict(xtest)"
   ]
  },
  {
   "cell_type": "code",
   "execution_count": 29,
   "id": "7827a0a6",
   "metadata": {},
   "outputs": [
    {
     "name": "stdout",
     "output_type": "stream",
     "text": [
      "Confusion Matrix:[[ 45  41]\n",
      " [ 23 191]]\n",
      "Classification Report:              precision    recall  f1-score   support\n",
      "\n",
      "         0.0       0.66      0.52      0.58        86\n",
      "         1.0       0.82      0.89      0.86       214\n",
      "\n",
      "    accuracy                           0.79       300\n",
      "   macro avg       0.74      0.71      0.72       300\n",
      "weighted avg       0.78      0.79      0.78       300\n",
      "\n",
      "Accuracy:0.7866666666666666\n"
     ]
    }
   ],
   "source": [
    "from sklearn.metrics import confusion_matrix,classification_report,accuracy_score\n",
    "cm=confusion_matrix(ytest,ypred)\n",
    "cr=classification_report(ytest,ypred)\n",
    "ac=accuracy_score(ytest,ypred)\n",
    "print(f\"Confusion Matrix:{cm}\\nClassification Report:{cr}\\nAccuracy:{ac}\")\n"
   ]
  },
  {
   "cell_type": "markdown",
   "id": "eaf6617b",
   "metadata": {},
   "source": [
    "# The Accuracy of the Model = 78"
   ]
  },
  {
   "cell_type": "code",
   "execution_count": 30,
   "id": "5bd33bc1",
   "metadata": {},
   "outputs": [
    {
     "data": {
      "image/png": "[encoded data removed]",
      "text/plain": [
       "<Figure size 1200x1200 with 3 Axes>"
      ]
     },
     "metadata": {},
     "output_type": "display_data"
    }
   ],
   "source": [
    "plt.figure(figsize=(12,12))\n",
    "pltn=1\n",
    "\n",
    "for i in Numcol:\n",
    "    if pltn<=15:\n",
    "        ax=plt.subplot(6,4,pltn)\n",
    "        sns.distplot(df[i])\n",
    "        plt.xlabel(i,fontsize=18)\n",
    "    pltn=pltn+1\n",
    "plt.tight_layout()"
   ]
  },
  {
   "cell_type": "code",
   "execution_count": 31,
   "id": "b7afd293",
   "metadata": {},
   "outputs": [],
   "source": [
    "from scipy.stats import zscore"
   ]
  },
  {
   "cell_type": "code",
   "execution_count": 32,
   "id": "636453d8",
   "metadata": {},
   "outputs": [],
   "source": [
    "z=np.abs(zscore(df[Numcol]))\n",
    "new_data=df[(z<=3).all(axis=1)]"
   ]
  },
  {
   "cell_type": "code",
   "execution_count": 33,
   "id": "de2d82aa",
   "metadata": {},
   "outputs": [
    {
     "data": {
      "text/html": [
       "<div>\n",
       "<style scoped>\n",
       "    .dataframe tbody tr th:only-of-type {\n",
       "        vertical-align: middle;\n",
       "    }\n",
       "\n",
       "    .dataframe tbody tr th {\n",
       "        vertical-align: top;\n",
       "    }\n",
       "\n",
       "    .dataframe thead th {\n",
       "        text-align: right;\n",
       "    }\n",
       "</style>\n",
       "<table border=\"1\" class=\"dataframe\">\n",
       "  <thead>\n",
       "    <tr style=\"text-align: right;\">\n",
       "      <th></th>\n",
       "      <th>gender</th>\n",
       "      <th>race/ethnicity</th>\n",
       "      <th>parental level of education</th>\n",
       "      <th>lunch</th>\n",
       "      <th>test preparation course</th>\n",
       "      <th>math score</th>\n",
       "      <th>reading score</th>\n",
       "      <th>writing score</th>\n",
       "    </tr>\n",
       "  </thead>\n",
       "  <tbody>\n",
       "    <tr>\n",
       "      <th>0</th>\n",
       "      <td>1.0</td>\n",
       "      <td>0.0</td>\n",
       "      <td>2.0</td>\n",
       "      <td>1.0</td>\n",
       "      <td>0.0</td>\n",
       "      <td>67</td>\n",
       "      <td>67</td>\n",
       "      <td>63</td>\n",
       "    </tr>\n",
       "    <tr>\n",
       "      <th>1</th>\n",
       "      <td>0.0</td>\n",
       "      <td>3.0</td>\n",
       "      <td>5.0</td>\n",
       "      <td>0.0</td>\n",
       "      <td>1.0</td>\n",
       "      <td>40</td>\n",
       "      <td>59</td>\n",
       "      <td>55</td>\n",
       "    </tr>\n",
       "    <tr>\n",
       "      <th>2</th>\n",
       "      <td>1.0</td>\n",
       "      <td>4.0</td>\n",
       "      <td>4.0</td>\n",
       "      <td>0.0</td>\n",
       "      <td>1.0</td>\n",
       "      <td>59</td>\n",
       "      <td>60</td>\n",
       "      <td>50</td>\n",
       "    </tr>\n",
       "    <tr>\n",
       "      <th>3</th>\n",
       "      <td>1.0</td>\n",
       "      <td>1.0</td>\n",
       "      <td>2.0</td>\n",
       "      <td>1.0</td>\n",
       "      <td>1.0</td>\n",
       "      <td>77</td>\n",
       "      <td>78</td>\n",
       "      <td>68</td>\n",
       "    </tr>\n",
       "    <tr>\n",
       "      <th>4</th>\n",
       "      <td>1.0</td>\n",
       "      <td>4.0</td>\n",
       "      <td>0.0</td>\n",
       "      <td>1.0</td>\n",
       "      <td>0.0</td>\n",
       "      <td>78</td>\n",
       "      <td>73</td>\n",
       "      <td>68</td>\n",
       "    </tr>\n",
       "    <tr>\n",
       "      <th>...</th>\n",
       "      <td>...</td>\n",
       "      <td>...</td>\n",
       "      <td>...</td>\n",
       "      <td>...</td>\n",
       "      <td>...</td>\n",
       "      <td>...</td>\n",
       "      <td>...</td>\n",
       "      <td>...</td>\n",
       "    </tr>\n",
       "    <tr>\n",
       "      <th>995</th>\n",
       "      <td>1.0</td>\n",
       "      <td>2.0</td>\n",
       "      <td>2.0</td>\n",
       "      <td>1.0</td>\n",
       "      <td>1.0</td>\n",
       "      <td>73</td>\n",
       "      <td>70</td>\n",
       "      <td>65</td>\n",
       "    </tr>\n",
       "    <tr>\n",
       "      <th>996</th>\n",
       "      <td>1.0</td>\n",
       "      <td>3.0</td>\n",
       "      <td>0.0</td>\n",
       "      <td>0.0</td>\n",
       "      <td>0.0</td>\n",
       "      <td>85</td>\n",
       "      <td>91</td>\n",
       "      <td>92</td>\n",
       "    </tr>\n",
       "    <tr>\n",
       "      <th>997</th>\n",
       "      <td>0.0</td>\n",
       "      <td>2.0</td>\n",
       "      <td>5.0</td>\n",
       "      <td>0.0</td>\n",
       "      <td>1.0</td>\n",
       "      <td>32</td>\n",
       "      <td>35</td>\n",
       "      <td>41</td>\n",
       "    </tr>\n",
       "    <tr>\n",
       "      <th>998</th>\n",
       "      <td>0.0</td>\n",
       "      <td>2.0</td>\n",
       "      <td>4.0</td>\n",
       "      <td>1.0</td>\n",
       "      <td>1.0</td>\n",
       "      <td>73</td>\n",
       "      <td>74</td>\n",
       "      <td>82</td>\n",
       "    </tr>\n",
       "    <tr>\n",
       "      <th>999</th>\n",
       "      <td>1.0</td>\n",
       "      <td>0.0</td>\n",
       "      <td>4.0</td>\n",
       "      <td>1.0</td>\n",
       "      <td>0.0</td>\n",
       "      <td>65</td>\n",
       "      <td>60</td>\n",
       "      <td>62</td>\n",
       "    </tr>\n",
       "  </tbody>\n",
       "</table>\n",
       "<p>998 rows × 8 columns</p>\n",
       "</div>"
      ],
      "text/plain": [
       "     gender  race/ethnicity  parental level of education  lunch  \\\n",
       "0       1.0             0.0                          2.0    1.0   \n",
       "1       0.0             3.0                          5.0    0.0   \n",
       "2       1.0             4.0                          4.0    0.0   \n",
       "3       1.0             1.0                          2.0    1.0   \n",
       "4       1.0             4.0                          0.0    1.0   \n",
       "..      ...             ...                          ...    ...   \n",
       "995     1.0             2.0                          2.0    1.0   \n",
       "996     1.0             3.0                          0.0    0.0   \n",
       "997     0.0             2.0                          5.0    0.0   \n",
       "998     0.0             2.0                          4.0    1.0   \n",
       "999     1.0             0.0                          4.0    1.0   \n",
       "\n",
       "     test preparation course  math score  reading score  writing score  \n",
       "0                        0.0          67             67             63  \n",
       "1                        1.0          40             59             55  \n",
       "2                        1.0          59             60             50  \n",
       "3                        1.0          77             78             68  \n",
       "4                        0.0          78             73             68  \n",
       "..                       ...         ...            ...            ...  \n",
       "995                      1.0          73             70             65  \n",
       "996                      0.0          85             91             92  \n",
       "997                      1.0          32             35             41  \n",
       "998                      1.0          73             74             82  \n",
       "999                      0.0          65             60             62  \n",
       "\n",
       "[998 rows x 8 columns]"
      ]
     },
     "execution_count": 33,
     "metadata": {},
     "output_type": "execute_result"
    }
   ],
   "source": [
    "new_data"
   ]
  },
  {
   "cell_type": "code",
   "execution_count": 34,
   "id": "8e270fb2",
   "metadata": {},
   "outputs": [
    {
     "data": {
      "text/plain": [
       "(998, 8)"
      ]
     },
     "execution_count": 34,
     "metadata": {},
     "output_type": "execute_result"
    }
   ],
   "source": [
    "new_data.shape"
   ]
  },
  {
   "cell_type": "code",
   "execution_count": 35,
   "id": "b7a9deff",
   "metadata": {},
   "outputs": [
    {
     "data": {
      "text/plain": [
       "(1000, 8)"
      ]
     },
     "execution_count": 35,
     "metadata": {},
     "output_type": "execute_result"
    }
   ],
   "source": [
    "df.shape"
   ]
  },
  {
   "cell_type": "code",
   "execution_count": 36,
   "id": "36331d7c",
   "metadata": {},
   "outputs": [
    {
     "data": {
      "text/plain": [
       "0.2"
      ]
     },
     "execution_count": 36,
     "metadata": {},
     "output_type": "execute_result"
    }
   ],
   "source": [
    "Dataloss=((1000-998)/1000)*100\n",
    "Dataloss"
   ]
  },
  {
   "cell_type": "code",
   "execution_count": 37,
   "id": "5f5e3ca3",
   "metadata": {},
   "outputs": [
    {
     "data": {
      "text/plain": [
       "gender                        -0.072300\n",
       "race/ethnicity                -0.102148\n",
       "parental level of education   -0.082648\n",
       "lunch                         -0.645228\n",
       "test preparation course       -0.697025\n",
       "math score                    -0.091145\n",
       "reading score                 -0.178214\n",
       "writing score                 -0.139081\n",
       "dtype: float64"
      ]
     },
     "execution_count": 37,
     "metadata": {},
     "output_type": "execute_result"
    }
   ],
   "source": [
    "new_data.skew()  #checking the skewness of the new data"
   ]
  },
  {
   "cell_type": "code",
   "execution_count": 38,
   "id": "a3231400",
   "metadata": {},
   "outputs": [
    {
     "data": {
      "text/plain": [
       "<Axes: >"
      ]
     },
     "execution_count": 38,
     "metadata": {},
     "output_type": "execute_result"
    },
    {
     "data": {
      "image/png": "[encoded data removed]",
      "text/plain": [
       "<Figure size 500x500 with 2 Axes>"
      ]
     },
     "metadata": {},
     "output_type": "display_data"
    }
   ],
   "source": [
    "plt.figure(figsize=(5,5))\n",
    "sns.heatmap(new_data.corr(),annot=True)"
   ]
  },
  {
   "cell_type": "code",
   "execution_count": 39,
   "id": "6f6c4106",
   "metadata": {},
   "outputs": [
    {
     "data": {
      "text/html": [
       "<div>\n",
       "<style scoped>\n",
       "    .dataframe tbody tr th:only-of-type {\n",
       "        vertical-align: middle;\n",
       "    }\n",
       "\n",
       "    .dataframe tbody tr th {\n",
       "        vertical-align: top;\n",
       "    }\n",
       "\n",
       "    .dataframe thead th {\n",
       "        text-align: right;\n",
       "    }\n",
       "</style>\n",
       "<table border=\"1\" class=\"dataframe\">\n",
       "  <thead>\n",
       "    <tr style=\"text-align: right;\">\n",
       "      <th></th>\n",
       "      <th>gender</th>\n",
       "      <th>race/ethnicity</th>\n",
       "      <th>parental level of education</th>\n",
       "      <th>lunch</th>\n",
       "      <th>test preparation course</th>\n",
       "      <th>math score</th>\n",
       "      <th>reading score</th>\n",
       "      <th>writing score</th>\n",
       "    </tr>\n",
       "  </thead>\n",
       "  <tbody>\n",
       "    <tr>\n",
       "      <th>0</th>\n",
       "      <td>1.0</td>\n",
       "      <td>0.0</td>\n",
       "      <td>2.0</td>\n",
       "      <td>1.0</td>\n",
       "      <td>0.0</td>\n",
       "      <td>67</td>\n",
       "      <td>67</td>\n",
       "      <td>63</td>\n",
       "    </tr>\n",
       "    <tr>\n",
       "      <th>1</th>\n",
       "      <td>0.0</td>\n",
       "      <td>3.0</td>\n",
       "      <td>5.0</td>\n",
       "      <td>0.0</td>\n",
       "      <td>1.0</td>\n",
       "      <td>40</td>\n",
       "      <td>59</td>\n",
       "      <td>55</td>\n",
       "    </tr>\n",
       "    <tr>\n",
       "      <th>2</th>\n",
       "      <td>1.0</td>\n",
       "      <td>4.0</td>\n",
       "      <td>4.0</td>\n",
       "      <td>0.0</td>\n",
       "      <td>1.0</td>\n",
       "      <td>59</td>\n",
       "      <td>60</td>\n",
       "      <td>50</td>\n",
       "    </tr>\n",
       "    <tr>\n",
       "      <th>3</th>\n",
       "      <td>1.0</td>\n",
       "      <td>1.0</td>\n",
       "      <td>2.0</td>\n",
       "      <td>1.0</td>\n",
       "      <td>1.0</td>\n",
       "      <td>77</td>\n",
       "      <td>78</td>\n",
       "      <td>68</td>\n",
       "    </tr>\n",
       "    <tr>\n",
       "      <th>4</th>\n",
       "      <td>1.0</td>\n",
       "      <td>4.0</td>\n",
       "      <td>0.0</td>\n",
       "      <td>1.0</td>\n",
       "      <td>0.0</td>\n",
       "      <td>78</td>\n",
       "      <td>73</td>\n",
       "      <td>68</td>\n",
       "    </tr>\n",
       "    <tr>\n",
       "      <th>...</th>\n",
       "      <td>...</td>\n",
       "      <td>...</td>\n",
       "      <td>...</td>\n",
       "      <td>...</td>\n",
       "      <td>...</td>\n",
       "      <td>...</td>\n",
       "      <td>...</td>\n",
       "      <td>...</td>\n",
       "    </tr>\n",
       "    <tr>\n",
       "      <th>995</th>\n",
       "      <td>1.0</td>\n",
       "      <td>2.0</td>\n",
       "      <td>2.0</td>\n",
       "      <td>1.0</td>\n",
       "      <td>1.0</td>\n",
       "      <td>73</td>\n",
       "      <td>70</td>\n",
       "      <td>65</td>\n",
       "    </tr>\n",
       "    <tr>\n",
       "      <th>996</th>\n",
       "      <td>1.0</td>\n",
       "      <td>3.0</td>\n",
       "      <td>0.0</td>\n",
       "      <td>0.0</td>\n",
       "      <td>0.0</td>\n",
       "      <td>85</td>\n",
       "      <td>91</td>\n",
       "      <td>92</td>\n",
       "    </tr>\n",
       "    <tr>\n",
       "      <th>997</th>\n",
       "      <td>0.0</td>\n",
       "      <td>2.0</td>\n",
       "      <td>5.0</td>\n",
       "      <td>0.0</td>\n",
       "      <td>1.0</td>\n",
       "      <td>32</td>\n",
       "      <td>35</td>\n",
       "      <td>41</td>\n",
       "    </tr>\n",
       "    <tr>\n",
       "      <th>998</th>\n",
       "      <td>0.0</td>\n",
       "      <td>2.0</td>\n",
       "      <td>4.0</td>\n",
       "      <td>1.0</td>\n",
       "      <td>1.0</td>\n",
       "      <td>73</td>\n",
       "      <td>74</td>\n",
       "      <td>82</td>\n",
       "    </tr>\n",
       "    <tr>\n",
       "      <th>999</th>\n",
       "      <td>1.0</td>\n",
       "      <td>0.0</td>\n",
       "      <td>4.0</td>\n",
       "      <td>1.0</td>\n",
       "      <td>0.0</td>\n",
       "      <td>65</td>\n",
       "      <td>60</td>\n",
       "      <td>62</td>\n",
       "    </tr>\n",
       "  </tbody>\n",
       "</table>\n",
       "<p>998 rows × 8 columns</p>\n",
       "</div>"
      ],
      "text/plain": [
       "     gender  race/ethnicity  parental level of education  lunch  \\\n",
       "0       1.0             0.0                          2.0    1.0   \n",
       "1       0.0             3.0                          5.0    0.0   \n",
       "2       1.0             4.0                          4.0    0.0   \n",
       "3       1.0             1.0                          2.0    1.0   \n",
       "4       1.0             4.0                          0.0    1.0   \n",
       "..      ...             ...                          ...    ...   \n",
       "995     1.0             2.0                          2.0    1.0   \n",
       "996     1.0             3.0                          0.0    0.0   \n",
       "997     0.0             2.0                          5.0    0.0   \n",
       "998     0.0             2.0                          4.0    1.0   \n",
       "999     1.0             0.0                          4.0    1.0   \n",
       "\n",
       "     test preparation course  math score  reading score  writing score  \n",
       "0                        0.0          67             67             63  \n",
       "1                        1.0          40             59             55  \n",
       "2                        1.0          59             60             50  \n",
       "3                        1.0          77             78             68  \n",
       "4                        0.0          78             73             68  \n",
       "..                       ...         ...            ...            ...  \n",
       "995                      1.0          73             70             65  \n",
       "996                      0.0          85             91             92  \n",
       "997                      1.0          32             35             41  \n",
       "998                      1.0          73             74             82  \n",
       "999                      0.0          65             60             62  \n",
       "\n",
       "[998 rows x 8 columns]"
      ]
     },
     "execution_count": 39,
     "metadata": {},
     "output_type": "execute_result"
    }
   ],
   "source": [
    "new_data"
   ]
  },
  {
   "cell_type": "code",
   "execution_count": 40,
   "id": "63161178",
   "metadata": {},
   "outputs": [],
   "source": [
    "x = new_data.drop(\"test preparation course\",axis = 1)   # segrated all features from Target \n",
    "y = new_data['test preparation course']"
   ]
  },
  {
   "cell_type": "code",
   "execution_count": 41,
   "id": "ef0e77f3",
   "metadata": {},
   "outputs": [
    {
     "data": {
      "text/plain": [
       "0      0.0\n",
       "1      1.0\n",
       "2      1.0\n",
       "3      1.0\n",
       "4      0.0\n",
       "      ... \n",
       "995    1.0\n",
       "996    0.0\n",
       "997    1.0\n",
       "998    1.0\n",
       "999    0.0\n",
       "Name: test preparation course, Length: 998, dtype: float64"
      ]
     },
     "execution_count": 41,
     "metadata": {},
     "output_type": "execute_result"
    }
   ],
   "source": [
    "y"
   ]
  },
  {
   "cell_type": "code",
   "execution_count": 42,
   "id": "27e2e396",
   "metadata": {},
   "outputs": [
    {
     "data": {
      "text/html": [
       "<div>\n",
       "<style scoped>\n",
       "    .dataframe tbody tr th:only-of-type {\n",
       "        vertical-align: middle;\n",
       "    }\n",
       "\n",
       "    .dataframe tbody tr th {\n",
       "        vertical-align: top;\n",
       "    }\n",
       "\n",
       "    .dataframe thead th {\n",
       "        text-align: right;\n",
       "    }\n",
       "</style>\n",
       "<table border=\"1\" class=\"dataframe\">\n",
       "  <thead>\n",
       "    <tr style=\"text-align: right;\">\n",
       "      <th></th>\n",
       "      <th>gender</th>\n",
       "      <th>race/ethnicity</th>\n",
       "      <th>parental level of education</th>\n",
       "      <th>lunch</th>\n",
       "      <th>math score</th>\n",
       "      <th>reading score</th>\n",
       "      <th>writing score</th>\n",
       "    </tr>\n",
       "  </thead>\n",
       "  <tbody>\n",
       "    <tr>\n",
       "      <th>0</th>\n",
       "      <td>1.0</td>\n",
       "      <td>0.0</td>\n",
       "      <td>2.0</td>\n",
       "      <td>1.0</td>\n",
       "      <td>67</td>\n",
       "      <td>67</td>\n",
       "      <td>63</td>\n",
       "    </tr>\n",
       "    <tr>\n",
       "      <th>1</th>\n",
       "      <td>0.0</td>\n",
       "      <td>3.0</td>\n",
       "      <td>5.0</td>\n",
       "      <td>0.0</td>\n",
       "      <td>40</td>\n",
       "      <td>59</td>\n",
       "      <td>55</td>\n",
       "    </tr>\n",
       "    <tr>\n",
       "      <th>2</th>\n",
       "      <td>1.0</td>\n",
       "      <td>4.0</td>\n",
       "      <td>4.0</td>\n",
       "      <td>0.0</td>\n",
       "      <td>59</td>\n",
       "      <td>60</td>\n",
       "      <td>50</td>\n",
       "    </tr>\n",
       "    <tr>\n",
       "      <th>3</th>\n",
       "      <td>1.0</td>\n",
       "      <td>1.0</td>\n",
       "      <td>2.0</td>\n",
       "      <td>1.0</td>\n",
       "      <td>77</td>\n",
       "      <td>78</td>\n",
       "      <td>68</td>\n",
       "    </tr>\n",
       "    <tr>\n",
       "      <th>4</th>\n",
       "      <td>1.0</td>\n",
       "      <td>4.0</td>\n",
       "      <td>0.0</td>\n",
       "      <td>1.0</td>\n",
       "      <td>78</td>\n",
       "      <td>73</td>\n",
       "      <td>68</td>\n",
       "    </tr>\n",
       "    <tr>\n",
       "      <th>...</th>\n",
       "      <td>...</td>\n",
       "      <td>...</td>\n",
       "      <td>...</td>\n",
       "      <td>...</td>\n",
       "      <td>...</td>\n",
       "      <td>...</td>\n",
       "      <td>...</td>\n",
       "    </tr>\n",
       "    <tr>\n",
       "      <th>995</th>\n",
       "      <td>1.0</td>\n",
       "      <td>2.0</td>\n",
       "      <td>2.0</td>\n",
       "      <td>1.0</td>\n",
       "      <td>73</td>\n",
       "      <td>70</td>\n",
       "      <td>65</td>\n",
       "    </tr>\n",
       "    <tr>\n",
       "      <th>996</th>\n",
       "      <td>1.0</td>\n",
       "      <td>3.0</td>\n",
       "      <td>0.0</td>\n",
       "      <td>0.0</td>\n",
       "      <td>85</td>\n",
       "      <td>91</td>\n",
       "      <td>92</td>\n",
       "    </tr>\n",
       "    <tr>\n",
       "      <th>997</th>\n",
       "      <td>0.0</td>\n",
       "      <td>2.0</td>\n",
       "      <td>5.0</td>\n",
       "      <td>0.0</td>\n",
       "      <td>32</td>\n",
       "      <td>35</td>\n",
       "      <td>41</td>\n",
       "    </tr>\n",
       "    <tr>\n",
       "      <th>998</th>\n",
       "      <td>0.0</td>\n",
       "      <td>2.0</td>\n",
       "      <td>4.0</td>\n",
       "      <td>1.0</td>\n",
       "      <td>73</td>\n",
       "      <td>74</td>\n",
       "      <td>82</td>\n",
       "    </tr>\n",
       "    <tr>\n",
       "      <th>999</th>\n",
       "      <td>1.0</td>\n",
       "      <td>0.0</td>\n",
       "      <td>4.0</td>\n",
       "      <td>1.0</td>\n",
       "      <td>65</td>\n",
       "      <td>60</td>\n",
       "      <td>62</td>\n",
       "    </tr>\n",
       "  </tbody>\n",
       "</table>\n",
       "<p>998 rows × 7 columns</p>\n",
       "</div>"
      ],
      "text/plain": [
       "     gender  race/ethnicity  parental level of education  lunch  math score  \\\n",
       "0       1.0             0.0                          2.0    1.0          67   \n",
       "1       0.0             3.0                          5.0    0.0          40   \n",
       "2       1.0             4.0                          4.0    0.0          59   \n",
       "3       1.0             1.0                          2.0    1.0          77   \n",
       "4       1.0             4.0                          0.0    1.0          78   \n",
       "..      ...             ...                          ...    ...         ...   \n",
       "995     1.0             2.0                          2.0    1.0          73   \n",
       "996     1.0             3.0                          0.0    0.0          85   \n",
       "997     0.0             2.0                          5.0    0.0          32   \n",
       "998     0.0             2.0                          4.0    1.0          73   \n",
       "999     1.0             0.0                          4.0    1.0          65   \n",
       "\n",
       "     reading score  writing score  \n",
       "0               67             63  \n",
       "1               59             55  \n",
       "2               60             50  \n",
       "3               78             68  \n",
       "4               73             68  \n",
       "..             ...            ...  \n",
       "995             70             65  \n",
       "996             91             92  \n",
       "997             35             41  \n",
       "998             74             82  \n",
       "999             60             62  \n",
       "\n",
       "[998 rows x 7 columns]"
      ]
     },
     "execution_count": 42,
     "metadata": {},
     "output_type": "execute_result"
    }
   ],
   "source": [
    "x"
   ]
  },
  {
   "cell_type": "code",
   "execution_count": 43,
   "id": "7bcc9e54",
   "metadata": {},
   "outputs": [],
   "source": [
    "# we don't need to perfom scaling here as we don't have -----\n",
    "# lets make the model"
   ]
  },
  {
   "cell_type": "code",
   "execution_count": 44,
   "id": "79c76c45",
   "metadata": {},
   "outputs": [],
   "source": [
    "from sklearn.model_selection import train_test_split\n",
    "xtrain,xtest,ytrain,ytest=train_test_split(x,y,test_size=0.3,random_state=1)"
   ]
  },
  {
   "cell_type": "markdown",
   "id": "57ecc0f0",
   "metadata": {},
   "source": [
    "# Logistic Regression "
   ]
  },
  {
   "cell_type": "code",
   "execution_count": 45,
   "id": "0c59f068",
   "metadata": {},
   "outputs": [],
   "source": [
    "from sklearn.linear_model import LogisticRegression\n",
    "lr=LogisticRegression()\n",
    "lr.fit(xtrain,ytrain)\n",
    "ypred=lr.predict(xtest)"
   ]
  },
  {
   "cell_type": "markdown",
   "id": "3fcec3a8",
   "metadata": {},
   "source": [
    "# Model Evaluation"
   ]
  },
  {
   "cell_type": "code",
   "execution_count": 46,
   "id": "ae4faafa",
   "metadata": {},
   "outputs": [
    {
     "name": "stdout",
     "output_type": "stream",
     "text": [
      "Confusion Matrix:[[ 50  49]\n",
      " [ 26 175]]\n",
      "Classification Report:              precision    recall  f1-score   support\n",
      "\n",
      "         0.0       0.66      0.51      0.57        99\n",
      "         1.0       0.78      0.87      0.82       201\n",
      "\n",
      "    accuracy                           0.75       300\n",
      "   macro avg       0.72      0.69      0.70       300\n",
      "weighted avg       0.74      0.75      0.74       300\n",
      "\n",
      "Accuracy:0.75\n"
     ]
    }
   ],
   "source": [
    "from sklearn.metrics import confusion_matrix,classification_report,accuracy_score\n",
    "cm=confusion_matrix(ytest,ypred)\n",
    "cr=classification_report(ytest,ypred)\n",
    "ac=accuracy_score(ytest,ypred)\n",
    "print(f\"Confusion Matrix:{cm}\\nClassification Report:{cr}\\nAccuracy:{ac}\")\n"
   ]
  },
  {
   "cell_type": "markdown",
   "id": "1d12e5bd",
   "metadata": {},
   "source": [
    "# The Accuracy of the Model = 75% after removing the skewness"
   ]
  },
  {
   "cell_type": "markdown",
   "id": "9a3e4d59",
   "metadata": {},
   "source": [
    "# lets check if the model is Underfitting / Underfitting"
   ]
  },
  {
   "cell_type": "code",
   "execution_count": 47,
   "id": "77cd3401",
   "metadata": {},
   "outputs": [
    {
     "name": "stdout",
     "output_type": "stream",
     "text": [
      "Traning Score:0.7492836676217765\n",
      "Test Score:0.75\n"
     ]
    }
   ],
   "source": [
    "train = lr.score(xtrain,ytrain)\n",
    "test=lr.score(xtest,ytest)\n",
    "print(f\"Traning Score:{train}\\nTest Score:{test}\")"
   ]
  },
  {
   "cell_type": "code",
   "execution_count": 48,
   "id": "4b73754b",
   "metadata": {},
   "outputs": [],
   "source": [
    "# Comparing this file with the previous one here Both test score 74 and train score = 74%"
   ]
  },
  {
   "cell_type": "markdown",
   "id": "0e11df84",
   "metadata": {},
   "source": [
    "# lets try SVM on this data set and then check the Accuracy"
   ]
  },
  {
   "cell_type": "code",
   "execution_count": 49,
   "id": "54af254d",
   "metadata": {},
   "outputs": [],
   "source": [
    "from sklearn.svm import LinearSVC\n",
    "\n",
    "from sklearn.metrics import confusion_matrix,classification_report,accuracy_score\n"
   ]
  },
  {
   "cell_type": "code",
   "execution_count": 50,
   "id": "8047131e",
   "metadata": {},
   "outputs": [
    {
     "name": "stdout",
     "output_type": "stream",
     "text": [
      "Confusion Matrix:[[ 50  49]\n",
      " [ 26 175]]\n",
      "Classification Report:              precision    recall  f1-score   support\n",
      "\n",
      "         0.0       0.66      0.51      0.57        99\n",
      "         1.0       0.78      0.87      0.82       201\n",
      "\n",
      "    accuracy                           0.75       300\n",
      "   macro avg       0.72      0.69      0.70       300\n",
      "weighted avg       0.74      0.75      0.74       300\n",
      "\n",
      "Accuracy:0.75\n"
     ]
    }
   ],
   "source": [
    "cm=confusion_matrix(ytest,ypred)\n",
    "cr=classification_report(ytest,ypred)\n",
    "ac=accuracy_score(ytest,ypred)\n",
    "print(f\"Confusion Matrix:{cm}\\nClassification Report:{cr}\\nAccuracy:{ac}\")\n"
   ]
  },
  {
   "cell_type": "markdown",
   "id": "3fdf6143",
   "metadata": {},
   "source": [
    "# Using Hard Margin "
   ]
  },
  {
   "cell_type": "code",
   "execution_count": 51,
   "id": "c82e7435",
   "metadata": {},
   "outputs": [
    {
     "name": "stdout",
     "output_type": "stream",
     "text": [
      "[[  8  91]\n",
      " [  1 200]]\n",
      "              precision    recall  f1-score   support\n",
      "\n",
      "         0.0       0.89      0.08      0.15        99\n",
      "         1.0       0.69      1.00      0.81       201\n",
      "\n",
      "    accuracy                           0.69       300\n",
      "   macro avg       0.79      0.54      0.48       300\n",
      "weighted avg       0.75      0.69      0.59       300\n",
      "\n",
      "Training Score:0.670487106017192\n",
      "Testing Score:0.6933333333333334\n"
     ]
    }
   ],
   "source": [
    "linsvc=LinearSVC(random_state=1)\n",
    "linsvc.fit(xtrain,ytrain)\n",
    "ypred=linsvc.predict(xtest)\n",
    "print(confusion_matrix(ytest,ypred))\n",
    "print(classification_report(ytest,ypred))\n",
    "train=linsvc.score(xtrain,ytrain)\n",
    "test=linsvc.score(xtest,ytest)\n",
    "print(f\"Training Score:{train}\\nTesting Score:{test}\")"
   ]
  },
  {
   "cell_type": "markdown",
   "id": "298688b0",
   "metadata": {},
   "source": [
    "# Using Soft Margin"
   ]
  },
  {
   "cell_type": "code",
   "execution_count": 52,
   "id": "ce77caca",
   "metadata": {},
   "outputs": [
    {
     "name": "stdout",
     "output_type": "stream",
     "text": [
      "[[  9  90]\n",
      " [  1 200]]\n",
      "              precision    recall  f1-score   support\n",
      "\n",
      "         0.0       0.90      0.09      0.17        99\n",
      "         1.0       0.69      1.00      0.81       201\n",
      "\n",
      "    accuracy                           0.70       300\n",
      "   macro avg       0.79      0.54      0.49       300\n",
      "weighted avg       0.76      0.70      0.60       300\n",
      "\n",
      "Traingin Score:0.670487106017192\n",
      "Testing Score:0.6966666666666667\n"
     ]
    }
   ],
   "source": [
    "linsvc1=LinearSVC(random_state=1,C=0.8)\n",
    "linsvc1.fit(xtrain,ytrain)\n",
    "ypred=linsvc1.predict(xtest)\n",
    "print(confusion_matrix(ytest,ypred))\n",
    "print(classification_report(ytest,ypred))\n",
    "train=linsvc1.score(xtrain,ytrain)\n",
    "test=linsvc1.score(xtest,ytest)\n",
    "print(f\"Traingin Score:{train}\\nTesting Score:{test}\")"
   ]
  },
  {
   "cell_type": "markdown",
   "id": "8697e7a1",
   "metadata": {},
   "source": [
    "# SVC with Kernal - Polynomial - Hard margin"
   ]
  },
  {
   "cell_type": "code",
   "execution_count": 53,
   "id": "bf1f6833",
   "metadata": {},
   "outputs": [],
   "source": [
    "from sklearn.svm import SVC"
   ]
  },
  {
   "cell_type": "code",
   "execution_count": 54,
   "id": "8223f3a0",
   "metadata": {},
   "outputs": [
    {
     "name": "stdout",
     "output_type": "stream",
     "text": [
      "[[ 11  88]\n",
      " [  6 195]]\n",
      "              precision    recall  f1-score   support\n",
      "\n",
      "         0.0       0.65      0.11      0.19        99\n",
      "         1.0       0.69      0.97      0.81       201\n",
      "\n",
      "    accuracy                           0.69       300\n",
      "   macro avg       0.67      0.54      0.50       300\n",
      "weighted avg       0.68      0.69      0.60       300\n",
      "\n",
      "Training Score:0.6876790830945558\n",
      "Testing Score:0.6866666666666666\n"
     ]
    }
   ],
   "source": [
    "poly=SVC(random_state=1,kernel='poly',degree=2)\n",
    "poly.fit(xtrain,ytrain)\n",
    "ypred=poly.predict(xtest)\n",
    "print(confusion_matrix(ytest,ypred))\n",
    "print(classification_report(ytest,ypred))\n",
    "\n",
    "train=poly.score(xtrain,ytrain)\n",
    "test=poly.score(xtest,ytest)\n",
    "print(f\"Training Score:{train}\\nTesting Score:{test}\")"
   ]
  },
  {
   "cell_type": "markdown",
   "id": "b2f6e3fd",
   "metadata": {},
   "source": [
    "# SVC with Kernel - polynomial soft margin"
   ]
  },
  {
   "cell_type": "code",
   "execution_count": 55,
   "id": "a567d7c0",
   "metadata": {},
   "outputs": [
    {
     "name": "stdout",
     "output_type": "stream",
     "text": [
      "[[  3  96]\n",
      " [  1 200]]\n",
      "              precision    recall  f1-score   support\n",
      "\n",
      "         0.0       0.75      0.03      0.06        99\n",
      "         1.0       0.68      1.00      0.80       201\n",
      "\n",
      "    accuracy                           0.68       300\n",
      "   macro avg       0.71      0.51      0.43       300\n",
      "weighted avg       0.70      0.68      0.56       300\n",
      "\n",
      "Training Score:0.6747851002865329\n",
      "Testing Score:0.6766666666666666\n"
     ]
    }
   ],
   "source": [
    "poly=SVC(random_state=1,kernel='poly',degree=2,C=0.8)\n",
    "poly.fit(xtrain,ytrain)\n",
    "ypred=poly.predict(xtest)\n",
    "print(confusion_matrix(ytest,ypred))\n",
    "print(classification_report(ytest,ypred))\n",
    "\n",
    "train=poly.score(xtrain,ytrain)\n",
    "test=poly.score(xtest,ytest)\n",
    "print(f\"Training Score:{train}\\nTesting Score:{test}\")"
   ]
  },
  {
   "cell_type": "markdown",
   "id": "7a354742",
   "metadata": {},
   "source": [
    "# SVC with Kernel - rbf = soft Margin"
   ]
  },
  {
   "cell_type": "code",
   "execution_count": 56,
   "id": "be477e20",
   "metadata": {},
   "outputs": [
    {
     "name": "stdout",
     "output_type": "stream",
     "text": [
      "[[  0  99]\n",
      " [  0 201]]\n",
      "              precision    recall  f1-score   support\n",
      "\n",
      "         0.0       0.00      0.00      0.00        99\n",
      "         1.0       0.67      1.00      0.80       201\n",
      "\n",
      "    accuracy                           0.67       300\n",
      "   macro avg       0.34      0.50      0.40       300\n",
      "weighted avg       0.45      0.67      0.54       300\n",
      "\n",
      "Training Score:0.66189111747851\n",
      "Testing Score:0.67\n"
     ]
    }
   ],
   "source": [
    "rbf=SVC(random_state=1,kernel='rbf',C=0.5)\n",
    "rbf.fit(xtrain,ytrain)\n",
    "ypred=rbf.predict(xtest)\n",
    "print(confusion_matrix(ytest,ypred))\n",
    "print(classification_report(ytest,ypred))\n",
    "\n",
    "train=rbf.score(xtrain,ytrain)\n",
    "test=rbf.score(xtest,ytest)\n",
    "print(f\"Training Score:{train}\\nTesting Score:{test}\")"
   ]
  },
  {
   "cell_type": "markdown",
   "id": "c953a20f",
   "metadata": {},
   "source": [
    "# SVC with Kernel - radical - Hard margin"
   ]
  },
  {
   "cell_type": "code",
   "execution_count": 57,
   "id": "5acc9395",
   "metadata": {},
   "outputs": [
    {
     "name": "stdout",
     "output_type": "stream",
     "text": [
      "[[  0  99]\n",
      " [  0 201]]\n",
      "              precision    recall  f1-score   support\n",
      "\n",
      "         0.0       0.00      0.00      0.00        99\n",
      "         1.0       0.67      1.00      0.80       201\n",
      "\n",
      "    accuracy                           0.67       300\n",
      "   macro avg       0.34      0.50      0.40       300\n",
      "weighted avg       0.45      0.67      0.54       300\n",
      "\n",
      "Training Score:0.66189111747851\n",
      "Testing Score:0.67\n"
     ]
    }
   ],
   "source": [
    "rbf=SVC(random_state=1,kernel='rbf')\n",
    "rbf.fit(xtrain,ytrain)\n",
    "ypred=rbf.predict(xtest)\n",
    "print(confusion_matrix(ytest,ypred))\n",
    "print(classification_report(ytest,ypred))\n",
    "\n",
    "train=rbf.score(xtrain,ytrain)\n",
    "test=rbf.score(xtest,ytest)\n",
    "print(f\"Training Score:{train}\\nTesting Score:{test}\")"
   ]
  },
  {
   "cell_type": "code",
   "execution_count": 58,
   "id": "9daf7b4c",
   "metadata": {},
   "outputs": [],
   "source": [
    "from sklearn.model_selection import train_test_split\n",
    "xtrain,xtest,ytrain,ytest=train_test_split(x,y,test_size=0.3,random_state=1)"
   ]
  },
  {
   "cell_type": "code",
   "execution_count": 59,
   "id": "ef929bf1",
   "metadata": {},
   "outputs": [],
   "source": [
    "from sklearn.svm import SVR\n",
    "from sklearn.metrics import mean_absolute_error,mean_squared_error,r2_score"
   ]
  },
  {
   "cell_type": "markdown",
   "id": "394cc88b",
   "metadata": {},
   "source": [
    "# model1"
   ]
  },
  {
   "cell_type": "code",
   "execution_count": 60,
   "id": "b3ddce87",
   "metadata": {},
   "outputs": [],
   "source": [
    "#model 1 svr (kernel=linear)\n",
    "\n",
    "svm= SVR(kernel='linear')\n",
    "svm.fit(xtrain,ytrain)\n",
    "ypred=svm.predict(xtest)"
   ]
  },
  {
   "cell_type": "code",
   "execution_count": 61,
   "id": "c8288e36",
   "metadata": {},
   "outputs": [
    {
     "name": "stdout",
     "output_type": "stream",
     "text": [
      "MAE:0.34057681048687694\n",
      " MSE:0.17859688840297622\n",
      " RMSE:0.42260725076952504\n",
      " Accuracy:0.1922347878653271\n"
     ]
    }
   ],
   "source": [
    "mae=mean_absolute_error(ytest,ypred)\n",
    "mse=mean_squared_error(ytest,ypred)\n",
    "rmse=np.sqrt(mse)\n",
    "r2=r2_score(ytest,ypred)\n",
    "\n",
    "print(f'MAE:{mae}\\n MSE:{mse}\\n RMSE:{rmse}\\n Accuracy:{r2}')"
   ]
  },
  {
   "cell_type": "markdown",
   "id": "c0f433a0",
   "metadata": {},
   "source": [
    "# Model2"
   ]
  },
  {
   "cell_type": "code",
   "execution_count": 62,
   "id": "454201b2",
   "metadata": {},
   "outputs": [
    {
     "name": "stdout",
     "output_type": "stream",
     "text": [
      "MAE:0.3270265639465402\n",
      " MSE:0.20063877331002036\n",
      " RMSE:0.4479271964393548\n",
      " Accuracy:0.09254286155576519\n"
     ]
    }
   ],
   "source": [
    "#svr kernel=poly\n",
    "\n",
    "svm= SVR(kernel='poly')\n",
    "svm.fit(xtrain,ytrain)\n",
    "ypred=svm.predict(xtest)\n",
    "mae=mean_absolute_error(ytest,ypred)\n",
    "mse=mean_squared_error(ytest,ypred)\n",
    "rmse=np.sqrt(mse)\n",
    "r2=r2_score(ytest,ypred)\n",
    "\n",
    "print(f'MAE:{mae}\\n MSE:{mse}\\n RMSE:{rmse}\\n Accuracy:{r2}')"
   ]
  },
  {
   "cell_type": "markdown",
   "id": "13ce3dbd",
   "metadata": {},
   "source": [
    "# DecisionTree Classifier "
   ]
  },
  {
   "cell_type": "code",
   "execution_count": 63,
   "id": "9efb386c",
   "metadata": {},
   "outputs": [],
   "source": [
    "from sklearn.tree import DecisionTreeClassifier\n",
    "dtc=DecisionTreeClassifier()\n",
    "dtc.fit(xtrain,ytrain)\n",
    "ypred=dtc.predict(xtest)"
   ]
  },
  {
   "cell_type": "code",
   "execution_count": 64,
   "id": "eebc8050",
   "metadata": {},
   "outputs": [
    {
     "name": "stdout",
     "output_type": "stream",
     "text": [
      "              precision    recall  f1-score   support\n",
      "\n",
      "         0.0       0.52      0.57      0.54        99\n",
      "         1.0       0.78      0.74      0.76       201\n",
      "\n",
      "    accuracy                           0.68       300\n",
      "   macro avg       0.65      0.65      0.65       300\n",
      "weighted avg       0.69      0.68      0.69       300\n",
      "\n",
      "Training accuracy:1.0\n",
      " Testing accuracy0.6833333333333333\n"
     ]
    }
   ],
   "source": [
    "from sklearn.metrics import classification_report\n",
    "print(classification_report(ytest,ypred))\n",
    "train=dtc.score(xtrain,ytrain)\n",
    "test=dtc.score(xtest,ytest)\n",
    "print(f'Training accuracy:{train}\\n Testing accuracy{test}')"
   ]
  },
  {
   "cell_type": "code",
   "execution_count": 65,
   "id": "a602c7f8",
   "metadata": {},
   "outputs": [
    {
     "name": "stdout",
     "output_type": "stream",
     "text": [
      "              precision    recall  f1-score   support\n",
      "\n",
      "         0.0       0.55      0.52      0.53        99\n",
      "         1.0       0.77      0.79      0.78       201\n",
      "\n",
      "    accuracy                           0.70       300\n",
      "   macro avg       0.66      0.65      0.66       300\n",
      "weighted avg       0.70      0.70      0.70       300\n",
      "\n",
      "Training accuracy:0.8681948424068768\n",
      " Testing accuracy0.7\n"
     ]
    }
   ],
   "source": [
    "#model 1 using max _depth\n",
    "dtc=DecisionTreeClassifier(max_depth=9)\n",
    "dtc.fit(xtrain,ytrain)\n",
    "ypred=dtc.predict(xtest)\n",
    "print(classification_report(ytest,ypred))\n",
    "train=dtc.score(xtrain,ytrain)\n",
    "test=dtc.score(xtest,ytest)\n",
    "print(f'Training accuracy:{train}\\n Testing accuracy{test}')"
   ]
  },
  {
   "cell_type": "code",
   "execution_count": 66,
   "id": "e0383be3",
   "metadata": {},
   "outputs": [
    {
     "name": "stdout",
     "output_type": "stream",
     "text": [
      "              precision    recall  f1-score   support\n",
      "\n",
      "         0.0       0.49      0.46      0.48        99\n",
      "         1.0       0.74      0.77      0.75       201\n",
      "\n",
      "    accuracy                           0.67       300\n",
      "   macro avg       0.62      0.62      0.62       300\n",
      "weighted avg       0.66      0.67      0.66       300\n",
      "\n",
      "Training accuracy:0.8209169054441261\n",
      " Testing accuracy0.6666666666666666\n"
     ]
    }
   ],
   "source": [
    "#model 2 using min_sample \n",
    "dtc=DecisionTreeClassifier(min_samples_leaf=7)\n",
    "dtc.fit(xtrain,ytrain)\n",
    "ypred=dtc.predict(xtest)\n",
    "print(classification_report(ytest,ypred))\n",
    "train=dtc.score(xtrain,ytrain)\n",
    "test=dtc.score(xtest,ytest)\n",
    "print(f'Training accuracy:{train}\\n Testing accuracy{test}')"
   ]
  },
  {
   "cell_type": "code",
   "execution_count": 67,
   "id": "41b4a5b0",
   "metadata": {},
   "outputs": [
    {
     "name": "stdout",
     "output_type": "stream",
     "text": [
      "              precision    recall  f1-score   support\n",
      "\n",
      "         0.0       0.51      0.55      0.53        99\n",
      "         1.0       0.77      0.75      0.76       201\n",
      "\n",
      "    accuracy                           0.68       300\n",
      "   macro avg       0.64      0.65      0.64       300\n",
      "weighted avg       0.69      0.68      0.68       300\n",
      "\n",
      "Training accuracy:0.7808022922636103\n",
      " Testing accuracy0.68\n"
     ]
    }
   ],
   "source": [
    "#model 3 using both max_depth and min_sample_leaf\n",
    "dtc=DecisionTreeClassifier(max_depth=8,min_samples_leaf=10)\n",
    "dtc.fit(xtrain,ytrain)\n",
    "ypred=dtc.predict(xtest)\n",
    "print(classification_report(ytest,ypred))\n",
    "train=dtc.score(xtrain,ytrain)\n",
    "test=dtc.score(xtest,ytest)\n",
    "print(f'Training accuracy:{train}\\n Testing accuracy{test}')"
   ]
  },
  {
   "cell_type": "code",
   "execution_count": 68,
   "id": "d45c559a",
   "metadata": {},
   "outputs": [
    {
     "name": "stdout",
     "output_type": "stream",
     "text": [
      "              precision    recall  f1-score   support\n",
      "\n",
      "         0.0       0.52      0.54      0.53        99\n",
      "         1.0       0.77      0.76      0.76       201\n",
      "\n",
      "    accuracy                           0.68       300\n",
      "   macro avg       0.64      0.65      0.64       300\n",
      "weighted avg       0.69      0.68      0.68       300\n",
      "\n",
      "Training accuracy:0.7836676217765043\n",
      " Testing accuracy0.6833333333333333\n"
     ]
    }
   ],
   "source": [
    "#model 4 using criterion ('entropy') max_depth and min_sample_leaf\n",
    "dtc=DecisionTreeClassifier(criterion='entropy',max_depth=8,min_samples_leaf=10)\n",
    "dtc.fit(xtrain,ytrain)\n",
    "ypred=dtc.predict(xtest)\n",
    "print(classification_report(ytest,ypred))\n",
    "train=dtc.score(xtrain,ytrain)\n",
    "test=dtc.score(xtest,ytest)\n",
    "print(f'Training accuracy:{train}\\n Testing accuracy{test}')"
   ]
  },
  {
   "cell_type": "code",
   "execution_count": 69,
   "id": "adf68a36",
   "metadata": {},
   "outputs": [
    {
     "name": "stdout",
     "output_type": "stream",
     "text": [
      "              precision    recall  f1-score   support\n",
      "\n",
      "         0.0       0.62      0.55      0.58        99\n",
      "         1.0       0.79      0.84      0.81       201\n",
      "\n",
      "    accuracy                           0.74       300\n",
      "   macro avg       0.70      0.69      0.70       300\n",
      "weighted avg       0.73      0.74      0.74       300\n",
      "\n",
      "Training accuracy:0.7550143266475645\n",
      " Testing accuracy0.74\n"
     ]
    }
   ],
   "source": [
    "#model 5\n",
    "dtc=DecisionTreeClassifier(min_samples_leaf=23)\n",
    "dtc.fit(xtrain,ytrain)\n",
    "ypred=dtc.predict(xtest)\n",
    "print(classification_report(ytest,ypred))\n",
    "train=dtc.score(xtrain,ytrain)\n",
    "test=dtc.score(xtest,ytest)\n",
    "print(f'Training accuracy:{train}\\n Testing accuracy{test}')"
   ]
  },
  {
   "cell_type": "markdown",
   "id": "f9cc834d",
   "metadata": {},
   "source": [
    "# Random Forest"
   ]
  },
  {
   "cell_type": "code",
   "execution_count": 70,
   "id": "52830a6f",
   "metadata": {},
   "outputs": [
    {
     "name": "stdout",
     "output_type": "stream",
     "text": [
      "Defaulting to user installation because normal site-packages is not writeable\n",
      "Requirement already satisfied: imblearn in c:\\users\\sveda\\appdata\\roaming\\python\\python310\\site-packages (0.0)\n",
      "Requirement already satisfied: imbalanced-learn in c:\\programdata\\anaconda3\\lib\\site-packages (from imblearn) (0.10.1)\n",
      "Requirement already satisfied: threadpoolctl>=2.0.0 in c:\\programdata\\anaconda3\\lib\\site-packages (from imbalanced-learn->imblearn) (2.2.0)\n",
      "Requirement already satisfied: scikit-learn>=1.0.2 in c:\\programdata\\anaconda3\\lib\\site-packages (from imbalanced-learn->imblearn) (1.2.1)\n",
      "Requirement already satisfied: joblib>=1.1.1 in c:\\programdata\\anaconda3\\lib\\site-packages (from imbalanced-learn->imblearn) (1.1.1)\n",
      "Requirement already satisfied: numpy>=1.17.3 in c:\\programdata\\anaconda3\\lib\\site-packages (from imbalanced-learn->imblearn) (1.23.5)\n",
      "Requirement already satisfied: scipy>=1.3.2 in c:\\programdata\\anaconda3\\lib\\site-packages (from imbalanced-learn->imblearn) (1.10.0)\n"
     ]
    }
   ],
   "source": [
    "!pip install imblearn"
   ]
  },
  {
   "cell_type": "code",
   "execution_count": 71,
   "id": "6c84e085",
   "metadata": {},
   "outputs": [],
   "source": [
    "from imblearn.over_sampling import RandomOverSampler\n",
    "ros=RandomOverSampler(random_state=1)\n",
    "xsample,ysample=ros.fit_resample(xtrain,ytrain)"
   ]
  },
  {
   "cell_type": "code",
   "execution_count": 72,
   "id": "3b690953",
   "metadata": {},
   "outputs": [
    {
     "data": {
      "text/plain": [
       "1.0    462\n",
       "0.0    462\n",
       "Name: test preparation course, dtype: int64"
      ]
     },
     "execution_count": 72,
     "metadata": {},
     "output_type": "execute_result"
    }
   ],
   "source": [
    "ysample.value_counts()"
   ]
  },
  {
   "cell_type": "code",
   "execution_count": 73,
   "id": "83cc7191",
   "metadata": {},
   "outputs": [
    {
     "name": "stdout",
     "output_type": "stream",
     "text": [
      "              precision    recall  f1-score   support\n",
      "\n",
      "         0.0       0.51      0.49      0.50        99\n",
      "         1.0       0.75      0.77      0.76       201\n",
      "\n",
      "    accuracy                           0.68       300\n",
      "   macro avg       0.63      0.63      0.63       300\n",
      "weighted avg       0.67      0.68      0.68       300\n",
      "\n",
      "Training Score:1.0\n",
      " Testing Score0.6766666666666666\n"
     ]
    }
   ],
   "source": [
    "from sklearn.ensemble import RandomForestClassifier\n",
    "rf=RandomForestClassifier()\n",
    "rf.fit(xsample,ysample)\n",
    "ypred=rf.predict(xtest)\n",
    "print(classification_report(ytest,ypred))\n",
    "train=rf.score(xtrain,ytrain)\n",
    "test=rf.score(xtest,ytest)\n",
    "print(f'Training Score:{train}\\n Testing Score{test}')"
   ]
  },
  {
   "cell_type": "code",
   "execution_count": 74,
   "id": "d890e3ee",
   "metadata": {},
   "outputs": [
    {
     "name": "stdout",
     "output_type": "stream",
     "text": [
      "              precision    recall  f1-score   support\n",
      "\n",
      "         0.0       0.43      0.72      0.54        99\n",
      "         1.0       0.79      0.53      0.64       201\n",
      "\n",
      "    accuracy                           0.59       300\n",
      "   macro avg       0.61      0.62      0.59       300\n",
      "weighted avg       0.67      0.59      0.60       300\n",
      "\n",
      "Training Score:0.6074498567335244\n",
      " Testing Score0.5933333333333334\n"
     ]
    }
   ],
   "source": [
    "rf1=RandomForestClassifier(n_estimators=45,max_depth=2,max_features=8)\n",
    "rf1.fit(xsample,ysample)\n",
    "ypred=rf1.predict(xtest)\n",
    "print(classification_report(ytest,ypred))\n",
    "train=rf1.score(xtrain,ytrain)\n",
    "test=rf1.score(xtest,ytest)\n",
    "print(f'Training Score:{train}\\n Testing Score{test}')"
   ]
  },
  {
   "cell_type": "markdown",
   "id": "639f4855",
   "metadata": {},
   "source": [
    "# KNN (K-Nearest Neighbor )"
   ]
  },
  {
   "cell_type": "code",
   "execution_count": 75,
   "id": "5fa2cc3b",
   "metadata": {},
   "outputs": [],
   "source": [
    "from sklearn.cluster import KMeans\n",
    "wcss=[]\n",
    "for i in range(1,11):\n",
    "    kmeans=KMeans(n_clusters=i,random_state=1)\n",
    "    kmeans.fit(x)\n",
    "    wcss.append(kmeans.inertia_)"
   ]
  },
  {
   "cell_type": "code",
   "execution_count": 76,
   "id": "2289145d",
   "metadata": {},
   "outputs": [
    {
     "data": {
      "text/plain": [
       "[690796.8927855713,\n",
       " 281166.6700726174,\n",
       " 172907.55009569656,\n",
       " 129557.09917417304,\n",
       " 109875.87411134056,\n",
       " 97665.98613512667,\n",
       " 87014.51484772876,\n",
       " 77781.25980949757,\n",
       " 70537.10711021144,\n",
       " 64345.64093062714]"
      ]
     },
     "execution_count": 76,
     "metadata": {},
     "output_type": "execute_result"
    }
   ],
   "source": [
    "wcss"
   ]
  },
  {
   "cell_type": "code",
   "execution_count": 77,
   "id": "87d3d3f3",
   "metadata": {},
   "outputs": [
    {
     "data": {
      "image/png": "[encoded data removed]",
      "text/plain": [
       "<Figure size 640x480 with 1 Axes>"
      ]
     },
     "metadata": {},
     "output_type": "display_data"
    }
   ],
   "source": [
    "plt.plot(range(1,11),wcss,'o--')\n",
    "plt.show()"
   ]
  },
  {
   "cell_type": "code",
   "execution_count": 78,
   "id": "90ca5e97",
   "metadata": {},
   "outputs": [
    {
     "data": {
      "text/plain": [
       "array([4, 0, 0, 3, 3, 4, 0, 1, 0, 2, 1, 1, 3, 3, 1, 4, 2, 0, 2, 2, 3, 0,\n",
       "       4, 0, 2, 2, 0, 4, 1, 2, 3, 3, 2, 4, 1, 4, 4, 4, 4, 1, 4, 4, 3, 4,\n",
       "       1, 0, 0, 3, 4, 0, 4, 0, 3, 2, 0, 0, 3, 1, 0, 0, 4, 0, 4, 3, 1, 4,\n",
       "       4, 2, 4, 0, 4, 0, 0, 3, 4, 3, 0, 3, 3, 2, 0, 2, 0, 3, 2, 4, 4, 1,\n",
       "       0, 3, 2, 4, 3, 1, 3, 4, 1, 2, 0, 0, 0, 3, 3, 4, 0, 3, 3, 2, 3, 2,\n",
       "       1, 2, 4, 2, 3, 3, 0, 0, 4, 1, 4, 1, 0, 2, 3, 0, 4, 2, 1, 1, 3, 4,\n",
       "       0, 0, 0, 3, 3, 0, 2, 4, 4, 3, 1, 0, 3, 0, 4, 0, 1, 2, 3, 0, 3, 4,\n",
       "       0, 2, 4, 1, 1, 3, 1, 4, 1, 3, 4, 3, 4, 4, 1, 3, 0, 3, 4, 4, 3, 0,\n",
       "       0, 0, 1, 1, 0, 2, 1, 3, 3, 1, 3, 0, 4, 0, 0, 2, 4, 1, 4, 2, 2, 0,\n",
       "       0, 4, 0, 0, 4, 0, 3, 3, 3, 3, 3, 4, 4, 1, 4, 4, 3, 0, 4, 3, 4, 4,\n",
       "       1, 4, 2, 3, 1, 3, 2, 4, 3, 1, 3, 3, 2, 3, 3, 1, 0, 1, 4, 3, 3, 3,\n",
       "       4, 4, 2, 4, 2, 4, 0, 3, 4, 3, 4, 4, 0, 0, 3, 4, 4, 1, 4, 2, 0, 4,\n",
       "       1, 4, 4, 3, 0, 4, 4, 4, 4, 1, 1, 3, 4, 3, 2, 4, 3, 1, 0, 2, 2, 3,\n",
       "       1, 2, 4, 4, 3, 3, 4, 4, 0, 3, 2, 0, 0, 2, 2, 2, 0, 4, 4, 0, 4, 4,\n",
       "       3, 3, 4, 2, 2, 3, 4, 1, 4, 3, 3, 3, 0, 3, 0, 3, 3, 4, 3, 4, 0, 4,\n",
       "       3, 3, 0, 1, 2, 3, 0, 2, 4, 3, 0, 0, 0, 0, 3, 0, 3, 3, 0, 1, 0, 2,\n",
       "       3, 4, 4, 0, 0, 0, 4, 0, 3, 2, 0, 3, 4, 4, 0, 4, 0, 3, 3, 4, 4, 0,\n",
       "       1, 4, 1, 2, 1, 1, 2, 1, 3, 1, 3, 1, 0, 0, 3, 3, 4, 0, 0, 0, 3, 1,\n",
       "       3, 3, 4, 3, 4, 4, 4, 3, 4, 1, 0, 2, 3, 4, 4, 0, 0, 0, 4, 4, 4, 4,\n",
       "       2, 4, 4, 2, 3, 2, 3, 4, 3, 0, 3, 3, 3, 4, 1, 4, 1, 4, 2, 1, 4, 0,\n",
       "       1, 4, 2, 1, 4, 3, 4, 0, 3, 0, 0, 3, 2, 3, 0, 1, 3, 4, 0, 0, 2, 2,\n",
       "       4, 0, 4, 3, 0, 4, 0, 1, 3, 4, 2, 4, 3, 3, 4, 4, 2, 3, 3, 3, 3, 1,\n",
       "       1, 0, 0, 3, 4, 3, 4, 2, 3, 4, 4, 2, 4, 1, 1, 0, 1, 4, 3, 2, 1, 3,\n",
       "       0, 0, 4, 3, 1, 3, 3, 3, 4, 0, 2, 3, 1, 3, 3, 3, 3, 2, 0, 3, 1, 0,\n",
       "       4, 1, 4, 0, 4, 3, 1, 4, 4, 4, 4, 3, 3, 1, 0, 3, 3, 4, 0, 2, 0, 1,\n",
       "       4, 1, 4, 3, 2, 2, 4, 3, 2, 2, 0, 4, 0, 1, 3, 0, 3, 2, 4, 4, 1, 2,\n",
       "       4, 0, 1, 0, 4, 4, 2, 3, 4, 4, 3, 1, 0, 4, 1, 1, 4, 3, 1, 4, 1, 0,\n",
       "       0, 3, 0, 2, 1, 0, 4, 2, 4, 1, 2, 3, 4, 0, 3, 0, 3, 4, 3, 4, 2, 1,\n",
       "       4, 0, 4, 0, 2, 3, 3, 3, 0, 1, 1, 3, 4, 4, 0, 0, 0, 1, 1, 0, 4, 1,\n",
       "       4, 1, 4, 4, 4, 2, 0, 3, 4, 1, 2, 3, 3, 1, 2, 0, 3, 4, 0, 3, 2, 1,\n",
       "       0, 1, 4, 3, 4, 3, 4, 0, 0, 2, 3, 2, 4, 0, 4, 4, 3, 4, 4, 0, 2, 3,\n",
       "       4, 4, 0, 0, 3, 0, 2, 1, 3, 1, 0, 1, 4, 0, 3, 3, 4, 2, 2, 3, 4, 4,\n",
       "       4, 1, 1, 3, 4, 0, 3, 2, 0, 4, 4, 1, 2, 0, 2, 2, 1, 0, 4, 0, 2, 3,\n",
       "       4, 0, 2, 1, 4, 1, 4, 0, 1, 1, 3, 4, 3, 0, 4, 1, 1, 3, 3, 2, 1, 1,\n",
       "       0, 3, 1, 4, 0, 1, 3, 1, 4, 0, 3, 4, 3, 0, 1, 4, 0, 0, 3, 2, 0, 4,\n",
       "       3, 3, 3, 4, 2, 2, 3, 2, 2, 1, 3, 1, 4, 3, 0, 4, 1, 0, 0, 3, 4, 4,\n",
       "       4, 1, 2, 1, 0, 0, 0, 3, 0, 3, 2, 4, 0, 4, 4, 3, 0, 2, 0, 4, 4, 1,\n",
       "       0, 1, 3, 4, 4, 3, 4, 3, 4, 3, 1, 1, 3, 1, 2, 2, 2, 3, 3, 3, 4, 4,\n",
       "       4, 1, 2, 4, 1, 1, 4, 4, 0, 4, 1, 4, 1, 3, 0, 4, 1, 1, 0, 1, 1, 3,\n",
       "       1, 1, 3, 4, 3, 3, 4, 3, 0, 0, 0, 0, 3, 4, 4, 0, 0, 4, 0, 0, 4, 1,\n",
       "       0, 3, 3, 2, 4, 4, 4, 3, 0, 4, 2, 2, 3, 3, 4, 0, 3, 2, 0, 4, 3, 0,\n",
       "       3, 3, 3, 4, 2, 4, 0, 0, 0, 4, 4, 4, 3, 4, 4, 3, 0, 4, 0, 4, 4, 0,\n",
       "       4, 4, 0, 3, 3, 2, 3, 0, 4, 3, 2, 2, 2, 0, 3, 3, 3, 4, 4, 0, 4, 0,\n",
       "       2, 0, 1, 3, 0, 4, 0, 3, 3, 0, 0, 1, 0, 1, 2, 4, 1, 1, 4, 1, 2, 0,\n",
       "       1, 0, 3, 4, 0, 3, 2, 0, 2, 4, 2, 0, 3, 0, 4, 4, 3, 3, 3, 4, 0, 1,\n",
       "       4, 0, 3, 4, 1, 2, 3, 4])"
      ]
     },
     "execution_count": 78,
     "metadata": {},
     "output_type": "execute_result"
    }
   ],
   "source": [
    "kmeans=KMeans(n_clusters=5,random_state=1)\n",
    "ylabel=kmeans.fit_predict(x)\n",
    "ylabel"
   ]
  },
  {
   "cell_type": "code",
   "execution_count": 79,
   "id": "0722e9b0",
   "metadata": {},
   "outputs": [
    {
     "data": {
      "text/html": [
       "<div>\n",
       "<style scoped>\n",
       "    .dataframe tbody tr th:only-of-type {\n",
       "        vertical-align: middle;\n",
       "    }\n",
       "\n",
       "    .dataframe tbody tr th {\n",
       "        vertical-align: top;\n",
       "    }\n",
       "\n",
       "    .dataframe thead th {\n",
       "        text-align: right;\n",
       "    }\n",
       "</style>\n",
       "<table border=\"1\" class=\"dataframe\">\n",
       "  <thead>\n",
       "    <tr style=\"text-align: right;\">\n",
       "      <th></th>\n",
       "      <th>gender</th>\n",
       "      <th>race/ethnicity</th>\n",
       "      <th>parental level of education</th>\n",
       "      <th>lunch</th>\n",
       "      <th>test preparation course</th>\n",
       "      <th>math score</th>\n",
       "      <th>reading score</th>\n",
       "      <th>writing score</th>\n",
       "    </tr>\n",
       "  </thead>\n",
       "  <tbody>\n",
       "    <tr>\n",
       "      <th>0</th>\n",
       "      <td>1.0</td>\n",
       "      <td>0.0</td>\n",
       "      <td>2.0</td>\n",
       "      <td>1.0</td>\n",
       "      <td>0.0</td>\n",
       "      <td>67</td>\n",
       "      <td>67</td>\n",
       "      <td>63</td>\n",
       "    </tr>\n",
       "    <tr>\n",
       "      <th>1</th>\n",
       "      <td>0.0</td>\n",
       "      <td>3.0</td>\n",
       "      <td>5.0</td>\n",
       "      <td>0.0</td>\n",
       "      <td>1.0</td>\n",
       "      <td>40</td>\n",
       "      <td>59</td>\n",
       "      <td>55</td>\n",
       "    </tr>\n",
       "    <tr>\n",
       "      <th>2</th>\n",
       "      <td>1.0</td>\n",
       "      <td>4.0</td>\n",
       "      <td>4.0</td>\n",
       "      <td>0.0</td>\n",
       "      <td>1.0</td>\n",
       "      <td>59</td>\n",
       "      <td>60</td>\n",
       "      <td>50</td>\n",
       "    </tr>\n",
       "    <tr>\n",
       "      <th>3</th>\n",
       "      <td>1.0</td>\n",
       "      <td>1.0</td>\n",
       "      <td>2.0</td>\n",
       "      <td>1.0</td>\n",
       "      <td>1.0</td>\n",
       "      <td>77</td>\n",
       "      <td>78</td>\n",
       "      <td>68</td>\n",
       "    </tr>\n",
       "    <tr>\n",
       "      <th>4</th>\n",
       "      <td>1.0</td>\n",
       "      <td>4.0</td>\n",
       "      <td>0.0</td>\n",
       "      <td>1.0</td>\n",
       "      <td>0.0</td>\n",
       "      <td>78</td>\n",
       "      <td>73</td>\n",
       "      <td>68</td>\n",
       "    </tr>\n",
       "    <tr>\n",
       "      <th>...</th>\n",
       "      <td>...</td>\n",
       "      <td>...</td>\n",
       "      <td>...</td>\n",
       "      <td>...</td>\n",
       "      <td>...</td>\n",
       "      <td>...</td>\n",
       "      <td>...</td>\n",
       "      <td>...</td>\n",
       "    </tr>\n",
       "    <tr>\n",
       "      <th>995</th>\n",
       "      <td>1.0</td>\n",
       "      <td>2.0</td>\n",
       "      <td>2.0</td>\n",
       "      <td>1.0</td>\n",
       "      <td>1.0</td>\n",
       "      <td>73</td>\n",
       "      <td>70</td>\n",
       "      <td>65</td>\n",
       "    </tr>\n",
       "    <tr>\n",
       "      <th>996</th>\n",
       "      <td>1.0</td>\n",
       "      <td>3.0</td>\n",
       "      <td>0.0</td>\n",
       "      <td>0.0</td>\n",
       "      <td>0.0</td>\n",
       "      <td>85</td>\n",
       "      <td>91</td>\n",
       "      <td>92</td>\n",
       "    </tr>\n",
       "    <tr>\n",
       "      <th>997</th>\n",
       "      <td>0.0</td>\n",
       "      <td>2.0</td>\n",
       "      <td>5.0</td>\n",
       "      <td>0.0</td>\n",
       "      <td>1.0</td>\n",
       "      <td>32</td>\n",
       "      <td>35</td>\n",
       "      <td>41</td>\n",
       "    </tr>\n",
       "    <tr>\n",
       "      <th>998</th>\n",
       "      <td>0.0</td>\n",
       "      <td>2.0</td>\n",
       "      <td>4.0</td>\n",
       "      <td>1.0</td>\n",
       "      <td>1.0</td>\n",
       "      <td>73</td>\n",
       "      <td>74</td>\n",
       "      <td>82</td>\n",
       "    </tr>\n",
       "    <tr>\n",
       "      <th>999</th>\n",
       "      <td>1.0</td>\n",
       "      <td>0.0</td>\n",
       "      <td>4.0</td>\n",
       "      <td>1.0</td>\n",
       "      <td>0.0</td>\n",
       "      <td>65</td>\n",
       "      <td>60</td>\n",
       "      <td>62</td>\n",
       "    </tr>\n",
       "  </tbody>\n",
       "</table>\n",
       "<p>998 rows × 8 columns</p>\n",
       "</div>"
      ],
      "text/plain": [
       "     gender  race/ethnicity  parental level of education  lunch  \\\n",
       "0       1.0             0.0                          2.0    1.0   \n",
       "1       0.0             3.0                          5.0    0.0   \n",
       "2       1.0             4.0                          4.0    0.0   \n",
       "3       1.0             1.0                          2.0    1.0   \n",
       "4       1.0             4.0                          0.0    1.0   \n",
       "..      ...             ...                          ...    ...   \n",
       "995     1.0             2.0                          2.0    1.0   \n",
       "996     1.0             3.0                          0.0    0.0   \n",
       "997     0.0             2.0                          5.0    0.0   \n",
       "998     0.0             2.0                          4.0    1.0   \n",
       "999     1.0             0.0                          4.0    1.0   \n",
       "\n",
       "     test preparation course  math score  reading score  writing score  \n",
       "0                        0.0          67             67             63  \n",
       "1                        1.0          40             59             55  \n",
       "2                        1.0          59             60             50  \n",
       "3                        1.0          77             78             68  \n",
       "4                        0.0          78             73             68  \n",
       "..                       ...         ...            ...            ...  \n",
       "995                      1.0          73             70             65  \n",
       "996                      0.0          85             91             92  \n",
       "997                      1.0          32             35             41  \n",
       "998                      1.0          73             74             82  \n",
       "999                      0.0          65             60             62  \n",
       "\n",
       "[998 rows x 8 columns]"
      ]
     },
     "execution_count": 79,
     "metadata": {},
     "output_type": "execute_result"
    }
   ],
   "source": [
    "new_data"
   ]
  },
  {
   "cell_type": "code",
   "execution_count": 80,
   "id": "158f987c",
   "metadata": {},
   "outputs": [],
   "source": [
    "new_data['ykmeans']=ylabel"
   ]
  },
  {
   "cell_type": "code",
   "execution_count": 81,
   "id": "54d31231",
   "metadata": {},
   "outputs": [
    {
     "data": {
      "text/html": [
       "<div>\n",
       "<style scoped>\n",
       "    .dataframe tbody tr th:only-of-type {\n",
       "        vertical-align: middle;\n",
       "    }\n",
       "\n",
       "    .dataframe tbody tr th {\n",
       "        vertical-align: top;\n",
       "    }\n",
       "\n",
       "    .dataframe thead th {\n",
       "        text-align: right;\n",
       "    }\n",
       "</style>\n",
       "<table border=\"1\" class=\"dataframe\">\n",
       "  <thead>\n",
       "    <tr style=\"text-align: right;\">\n",
       "      <th></th>\n",
       "      <th>gender</th>\n",
       "      <th>race/ethnicity</th>\n",
       "      <th>parental level of education</th>\n",
       "      <th>lunch</th>\n",
       "      <th>test preparation course</th>\n",
       "      <th>math score</th>\n",
       "      <th>reading score</th>\n",
       "      <th>writing score</th>\n",
       "      <th>ykmeans</th>\n",
       "    </tr>\n",
       "  </thead>\n",
       "  <tbody>\n",
       "    <tr>\n",
       "      <th>0</th>\n",
       "      <td>1.0</td>\n",
       "      <td>0.0</td>\n",
       "      <td>2.0</td>\n",
       "      <td>1.0</td>\n",
       "      <td>0.0</td>\n",
       "      <td>67</td>\n",
       "      <td>67</td>\n",
       "      <td>63</td>\n",
       "      <td>4</td>\n",
       "    </tr>\n",
       "    <tr>\n",
       "      <th>1</th>\n",
       "      <td>0.0</td>\n",
       "      <td>3.0</td>\n",
       "      <td>5.0</td>\n",
       "      <td>0.0</td>\n",
       "      <td>1.0</td>\n",
       "      <td>40</td>\n",
       "      <td>59</td>\n",
       "      <td>55</td>\n",
       "      <td>0</td>\n",
       "    </tr>\n",
       "    <tr>\n",
       "      <th>2</th>\n",
       "      <td>1.0</td>\n",
       "      <td>4.0</td>\n",
       "      <td>4.0</td>\n",
       "      <td>0.0</td>\n",
       "      <td>1.0</td>\n",
       "      <td>59</td>\n",
       "      <td>60</td>\n",
       "      <td>50</td>\n",
       "      <td>0</td>\n",
       "    </tr>\n",
       "    <tr>\n",
       "      <th>3</th>\n",
       "      <td>1.0</td>\n",
       "      <td>1.0</td>\n",
       "      <td>2.0</td>\n",
       "      <td>1.0</td>\n",
       "      <td>1.0</td>\n",
       "      <td>77</td>\n",
       "      <td>78</td>\n",
       "      <td>68</td>\n",
       "      <td>3</td>\n",
       "    </tr>\n",
       "    <tr>\n",
       "      <th>4</th>\n",
       "      <td>1.0</td>\n",
       "      <td>4.0</td>\n",
       "      <td>0.0</td>\n",
       "      <td>1.0</td>\n",
       "      <td>0.0</td>\n",
       "      <td>78</td>\n",
       "      <td>73</td>\n",
       "      <td>68</td>\n",
       "      <td>3</td>\n",
       "    </tr>\n",
       "    <tr>\n",
       "      <th>...</th>\n",
       "      <td>...</td>\n",
       "      <td>...</td>\n",
       "      <td>...</td>\n",
       "      <td>...</td>\n",
       "      <td>...</td>\n",
       "      <td>...</td>\n",
       "      <td>...</td>\n",
       "      <td>...</td>\n",
       "      <td>...</td>\n",
       "    </tr>\n",
       "    <tr>\n",
       "      <th>995</th>\n",
       "      <td>1.0</td>\n",
       "      <td>2.0</td>\n",
       "      <td>2.0</td>\n",
       "      <td>1.0</td>\n",
       "      <td>1.0</td>\n",
       "      <td>73</td>\n",
       "      <td>70</td>\n",
       "      <td>65</td>\n",
       "      <td>4</td>\n",
       "    </tr>\n",
       "    <tr>\n",
       "      <th>996</th>\n",
       "      <td>1.0</td>\n",
       "      <td>3.0</td>\n",
       "      <td>0.0</td>\n",
       "      <td>0.0</td>\n",
       "      <td>0.0</td>\n",
       "      <td>85</td>\n",
       "      <td>91</td>\n",
       "      <td>92</td>\n",
       "      <td>1</td>\n",
       "    </tr>\n",
       "    <tr>\n",
       "      <th>997</th>\n",
       "      <td>0.0</td>\n",
       "      <td>2.0</td>\n",
       "      <td>5.0</td>\n",
       "      <td>0.0</td>\n",
       "      <td>1.0</td>\n",
       "      <td>32</td>\n",
       "      <td>35</td>\n",
       "      <td>41</td>\n",
       "      <td>2</td>\n",
       "    </tr>\n",
       "    <tr>\n",
       "      <th>998</th>\n",
       "      <td>0.0</td>\n",
       "      <td>2.0</td>\n",
       "      <td>4.0</td>\n",
       "      <td>1.0</td>\n",
       "      <td>1.0</td>\n",
       "      <td>73</td>\n",
       "      <td>74</td>\n",
       "      <td>82</td>\n",
       "      <td>3</td>\n",
       "    </tr>\n",
       "    <tr>\n",
       "      <th>999</th>\n",
       "      <td>1.0</td>\n",
       "      <td>0.0</td>\n",
       "      <td>4.0</td>\n",
       "      <td>1.0</td>\n",
       "      <td>0.0</td>\n",
       "      <td>65</td>\n",
       "      <td>60</td>\n",
       "      <td>62</td>\n",
       "      <td>4</td>\n",
       "    </tr>\n",
       "  </tbody>\n",
       "</table>\n",
       "<p>998 rows × 9 columns</p>\n",
       "</div>"
      ],
      "text/plain": [
       "     gender  race/ethnicity  parental level of education  lunch  \\\n",
       "0       1.0             0.0                          2.0    1.0   \n",
       "1       0.0             3.0                          5.0    0.0   \n",
       "2       1.0             4.0                          4.0    0.0   \n",
       "3       1.0             1.0                          2.0    1.0   \n",
       "4       1.0             4.0                          0.0    1.0   \n",
       "..      ...             ...                          ...    ...   \n",
       "995     1.0             2.0                          2.0    1.0   \n",
       "996     1.0             3.0                          0.0    0.0   \n",
       "997     0.0             2.0                          5.0    0.0   \n",
       "998     0.0             2.0                          4.0    1.0   \n",
       "999     1.0             0.0                          4.0    1.0   \n",
       "\n",
       "     test preparation course  math score  reading score  writing score  \\\n",
       "0                        0.0          67             67             63   \n",
       "1                        1.0          40             59             55   \n",
       "2                        1.0          59             60             50   \n",
       "3                        1.0          77             78             68   \n",
       "4                        0.0          78             73             68   \n",
       "..                       ...         ...            ...            ...   \n",
       "995                      1.0          73             70             65   \n",
       "996                      0.0          85             91             92   \n",
       "997                      1.0          32             35             41   \n",
       "998                      1.0          73             74             82   \n",
       "999                      0.0          65             60             62   \n",
       "\n",
       "     ykmeans  \n",
       "0          4  \n",
       "1          0  \n",
       "2          0  \n",
       "3          3  \n",
       "4          3  \n",
       "..       ...  \n",
       "995        4  \n",
       "996        1  \n",
       "997        2  \n",
       "998        3  \n",
       "999        4  \n",
       "\n",
       "[998 rows x 9 columns]"
      ]
     },
     "execution_count": 81,
     "metadata": {},
     "output_type": "execute_result"
    }
   ],
   "source": [
    "new_data"
   ]
  },
  {
   "cell_type": "code",
   "execution_count": 82,
   "id": "ae236ae7",
   "metadata": {},
   "outputs": [
    {
     "data": {
      "text/plain": [
       "array([[ 0.48623853,  2.00458716,  2.83027523,  0.54587156, 55.22477064,\n",
       "        58.96788991, 57.04587156],\n",
       "       [ 0.39726027,  2.60273973,  2.17808219,  0.88356164, 87.87671233,\n",
       "        90.51369863, 90.80821918],\n",
       "       [ 0.61290323,  1.92741935,  3.19354839,  0.33064516, 43.35483871,\n",
       "        44.40322581, 42.15322581],\n",
       "       [ 0.53112033,  2.1659751 ,  2.34024896,  0.77178423, 76.21161826,\n",
       "        78.70954357, 78.05809129],\n",
       "       [ 0.55390335,  2.14869888,  2.47583643,  0.65799257, 66.01486989,\n",
       "        68.37174721, 66.71003717]])"
      ]
     },
     "execution_count": 82,
     "metadata": {},
     "output_type": "execute_result"
    }
   ],
   "source": [
    "kmeans.cluster_centers_"
   ]
  },
  {
   "cell_type": "code",
   "execution_count": 83,
   "id": "3bb51528",
   "metadata": {},
   "outputs": [
    {
     "data": {
      "text/html": [
       "<div>\n",
       "<style scoped>\n",
       "    .dataframe tbody tr th:only-of-type {\n",
       "        vertical-align: middle;\n",
       "    }\n",
       "\n",
       "    .dataframe tbody tr th {\n",
       "        vertical-align: top;\n",
       "    }\n",
       "\n",
       "    .dataframe thead th {\n",
       "        text-align: right;\n",
       "    }\n",
       "</style>\n",
       "<table border=\"1\" class=\"dataframe\">\n",
       "  <thead>\n",
       "    <tr style=\"text-align: right;\">\n",
       "      <th></th>\n",
       "      <th>gender</th>\n",
       "      <th>race/ethnicity</th>\n",
       "      <th>parental level of education</th>\n",
       "      <th>lunch</th>\n",
       "      <th>test preparation course</th>\n",
       "      <th>math score</th>\n",
       "      <th>reading score</th>\n",
       "      <th>writing score</th>\n",
       "      <th>ykmeans</th>\n",
       "    </tr>\n",
       "  </thead>\n",
       "  <tbody>\n",
       "    <tr>\n",
       "      <th>count</th>\n",
       "      <td>998.000000</td>\n",
       "      <td>998.000000</td>\n",
       "      <td>998.000000</td>\n",
       "      <td>998.000000</td>\n",
       "      <td>998.000000</td>\n",
       "      <td>998.000000</td>\n",
       "      <td>998.000000</td>\n",
       "      <td>998.000000</td>\n",
       "      <td>998.000000</td>\n",
       "    </tr>\n",
       "    <tr>\n",
       "      <th>mean</th>\n",
       "      <td>0.518036</td>\n",
       "      <td>2.160321</td>\n",
       "      <td>2.566132</td>\n",
       "      <td>0.653307</td>\n",
       "      <td>0.664329</td>\n",
       "      <td>66.503006</td>\n",
       "      <td>69.075150</td>\n",
       "      <td>67.813627</td>\n",
       "      <td>2.197395</td>\n",
       "    </tr>\n",
       "    <tr>\n",
       "      <th>std</th>\n",
       "      <td>0.499925</td>\n",
       "      <td>1.133226</td>\n",
       "      <td>1.811901</td>\n",
       "      <td>0.476156</td>\n",
       "      <td>0.472461</td>\n",
       "      <td>15.231332</td>\n",
       "      <td>14.660154</td>\n",
       "      <td>15.521536</td>\n",
       "      <td>1.517571</td>\n",
       "    </tr>\n",
       "    <tr>\n",
       "      <th>min</th>\n",
       "      <td>0.000000</td>\n",
       "      <td>0.000000</td>\n",
       "      <td>0.000000</td>\n",
       "      <td>0.000000</td>\n",
       "      <td>0.000000</td>\n",
       "      <td>23.000000</td>\n",
       "      <td>27.000000</td>\n",
       "      <td>23.000000</td>\n",
       "      <td>0.000000</td>\n",
       "    </tr>\n",
       "    <tr>\n",
       "      <th>25%</th>\n",
       "      <td>0.000000</td>\n",
       "      <td>1.000000</td>\n",
       "      <td>1.000000</td>\n",
       "      <td>0.000000</td>\n",
       "      <td>0.000000</td>\n",
       "      <td>56.000000</td>\n",
       "      <td>60.000000</td>\n",
       "      <td>58.000000</td>\n",
       "      <td>1.000000</td>\n",
       "    </tr>\n",
       "    <tr>\n",
       "      <th>50%</th>\n",
       "      <td>1.000000</td>\n",
       "      <td>2.000000</td>\n",
       "      <td>2.000000</td>\n",
       "      <td>1.000000</td>\n",
       "      <td>1.000000</td>\n",
       "      <td>67.000000</td>\n",
       "      <td>70.000000</td>\n",
       "      <td>68.000000</td>\n",
       "      <td>3.000000</td>\n",
       "    </tr>\n",
       "    <tr>\n",
       "      <th>75%</th>\n",
       "      <td>1.000000</td>\n",
       "      <td>3.000000</td>\n",
       "      <td>4.000000</td>\n",
       "      <td>1.000000</td>\n",
       "      <td>1.000000</td>\n",
       "      <td>77.000000</td>\n",
       "      <td>79.000000</td>\n",
       "      <td>79.000000</td>\n",
       "      <td>4.000000</td>\n",
       "    </tr>\n",
       "    <tr>\n",
       "      <th>max</th>\n",
       "      <td>1.000000</td>\n",
       "      <td>4.000000</td>\n",
       "      <td>5.000000</td>\n",
       "      <td>1.000000</td>\n",
       "      <td>1.000000</td>\n",
       "      <td>100.000000</td>\n",
       "      <td>100.000000</td>\n",
       "      <td>100.000000</td>\n",
       "      <td>4.000000</td>\n",
       "    </tr>\n",
       "  </tbody>\n",
       "</table>\n",
       "</div>"
      ],
      "text/plain": [
       "           gender  race/ethnicity  parental level of education       lunch  \\\n",
       "count  998.000000      998.000000                   998.000000  998.000000   \n",
       "mean     0.518036        2.160321                     2.566132    0.653307   \n",
       "std      0.499925        1.133226                     1.811901    0.476156   \n",
       "min      0.000000        0.000000                     0.000000    0.000000   \n",
       "25%      0.000000        1.000000                     1.000000    0.000000   \n",
       "50%      1.000000        2.000000                     2.000000    1.000000   \n",
       "75%      1.000000        3.000000                     4.000000    1.000000   \n",
       "max      1.000000        4.000000                     5.000000    1.000000   \n",
       "\n",
       "       test preparation course  math score  reading score  writing score  \\\n",
       "count               998.000000  998.000000     998.000000     998.000000   \n",
       "mean                  0.664329   66.503006      69.075150      67.813627   \n",
       "std                   0.472461   15.231332      14.660154      15.521536   \n",
       "min                   0.000000   23.000000      27.000000      23.000000   \n",
       "25%                   0.000000   56.000000      60.000000      58.000000   \n",
       "50%                   1.000000   67.000000      70.000000      68.000000   \n",
       "75%                   1.000000   77.000000      79.000000      79.000000   \n",
       "max                   1.000000  100.000000     100.000000     100.000000   \n",
       "\n",
       "          ykmeans  \n",
       "count  998.000000  \n",
       "mean     2.197395  \n",
       "std      1.517571  \n",
       "min      0.000000  \n",
       "25%      1.000000  \n",
       "50%      3.000000  \n",
       "75%      4.000000  \n",
       "max      4.000000  "
      ]
     },
     "execution_count": 83,
     "metadata": {},
     "output_type": "execute_result"
    }
   ],
   "source": [
    "new_data.describe()"
   ]
  },
  {
   "cell_type": "code",
   "execution_count": 84,
   "id": "659d702d",
   "metadata": {},
   "outputs": [
    {
     "data": {
      "text/html": [
       "<div>\n",
       "<style scoped>\n",
       "    .dataframe tbody tr th:only-of-type {\n",
       "        vertical-align: middle;\n",
       "    }\n",
       "\n",
       "    .dataframe tbody tr th {\n",
       "        vertical-align: top;\n",
       "    }\n",
       "\n",
       "    .dataframe thead th {\n",
       "        text-align: right;\n",
       "    }\n",
       "</style>\n",
       "<table border=\"1\" class=\"dataframe\">\n",
       "  <thead>\n",
       "    <tr style=\"text-align: right;\">\n",
       "      <th></th>\n",
       "      <th>gender</th>\n",
       "      <th>race/ethnicity</th>\n",
       "      <th>parental level of education</th>\n",
       "      <th>lunch</th>\n",
       "      <th>test preparation course</th>\n",
       "      <th>math score</th>\n",
       "      <th>reading score</th>\n",
       "      <th>writing score</th>\n",
       "      <th>ykmeans</th>\n",
       "    </tr>\n",
       "  </thead>\n",
       "  <tbody>\n",
       "    <tr>\n",
       "      <th>count</th>\n",
       "      <td>218.000000</td>\n",
       "      <td>218.000000</td>\n",
       "      <td>218.000000</td>\n",
       "      <td>218.000000</td>\n",
       "      <td>218.000000</td>\n",
       "      <td>218.000000</td>\n",
       "      <td>218.000000</td>\n",
       "      <td>218.000000</td>\n",
       "      <td>218.0</td>\n",
       "    </tr>\n",
       "    <tr>\n",
       "      <th>mean</th>\n",
       "      <td>0.486239</td>\n",
       "      <td>2.004587</td>\n",
       "      <td>2.830275</td>\n",
       "      <td>0.545872</td>\n",
       "      <td>0.738532</td>\n",
       "      <td>55.224771</td>\n",
       "      <td>58.967890</td>\n",
       "      <td>57.045872</td>\n",
       "      <td>0.0</td>\n",
       "    </tr>\n",
       "    <tr>\n",
       "      <th>std</th>\n",
       "      <td>0.500961</td>\n",
       "      <td>1.071188</td>\n",
       "      <td>1.850047</td>\n",
       "      <td>0.499037</td>\n",
       "      <td>0.440446</td>\n",
       "      <td>6.557082</td>\n",
       "      <td>5.019214</td>\n",
       "      <td>5.713409</td>\n",
       "      <td>0.0</td>\n",
       "    </tr>\n",
       "    <tr>\n",
       "      <th>min</th>\n",
       "      <td>0.000000</td>\n",
       "      <td>0.000000</td>\n",
       "      <td>0.000000</td>\n",
       "      <td>0.000000</td>\n",
       "      <td>0.000000</td>\n",
       "      <td>40.000000</td>\n",
       "      <td>44.000000</td>\n",
       "      <td>43.000000</td>\n",
       "      <td>0.0</td>\n",
       "    </tr>\n",
       "    <tr>\n",
       "      <th>25%</th>\n",
       "      <td>0.000000</td>\n",
       "      <td>1.000000</td>\n",
       "      <td>1.000000</td>\n",
       "      <td>0.000000</td>\n",
       "      <td>0.000000</td>\n",
       "      <td>51.000000</td>\n",
       "      <td>55.250000</td>\n",
       "      <td>53.000000</td>\n",
       "      <td>0.0</td>\n",
       "    </tr>\n",
       "    <tr>\n",
       "      <th>50%</th>\n",
       "      <td>0.000000</td>\n",
       "      <td>2.000000</td>\n",
       "      <td>3.000000</td>\n",
       "      <td>1.000000</td>\n",
       "      <td>1.000000</td>\n",
       "      <td>55.000000</td>\n",
       "      <td>59.000000</td>\n",
       "      <td>57.000000</td>\n",
       "      <td>0.0</td>\n",
       "    </tr>\n",
       "    <tr>\n",
       "      <th>75%</th>\n",
       "      <td>1.000000</td>\n",
       "      <td>3.000000</td>\n",
       "      <td>4.750000</td>\n",
       "      <td>1.000000</td>\n",
       "      <td>1.000000</td>\n",
       "      <td>60.000000</td>\n",
       "      <td>62.750000</td>\n",
       "      <td>61.000000</td>\n",
       "      <td>0.0</td>\n",
       "    </tr>\n",
       "    <tr>\n",
       "      <th>max</th>\n",
       "      <td>1.000000</td>\n",
       "      <td>4.000000</td>\n",
       "      <td>5.000000</td>\n",
       "      <td>1.000000</td>\n",
       "      <td>1.000000</td>\n",
       "      <td>73.000000</td>\n",
       "      <td>72.000000</td>\n",
       "      <td>71.000000</td>\n",
       "      <td>0.0</td>\n",
       "    </tr>\n",
       "  </tbody>\n",
       "</table>\n",
       "</div>"
      ],
      "text/plain": [
       "           gender  race/ethnicity  parental level of education       lunch  \\\n",
       "count  218.000000      218.000000                   218.000000  218.000000   \n",
       "mean     0.486239        2.004587                     2.830275    0.545872   \n",
       "std      0.500961        1.071188                     1.850047    0.499037   \n",
       "min      0.000000        0.000000                     0.000000    0.000000   \n",
       "25%      0.000000        1.000000                     1.000000    0.000000   \n",
       "50%      0.000000        2.000000                     3.000000    1.000000   \n",
       "75%      1.000000        3.000000                     4.750000    1.000000   \n",
       "max      1.000000        4.000000                     5.000000    1.000000   \n",
       "\n",
       "       test preparation course  math score  reading score  writing score  \\\n",
       "count               218.000000  218.000000     218.000000     218.000000   \n",
       "mean                  0.738532   55.224771      58.967890      57.045872   \n",
       "std                   0.440446    6.557082       5.019214       5.713409   \n",
       "min                   0.000000   40.000000      44.000000      43.000000   \n",
       "25%                   0.000000   51.000000      55.250000      53.000000   \n",
       "50%                   1.000000   55.000000      59.000000      57.000000   \n",
       "75%                   1.000000   60.000000      62.750000      61.000000   \n",
       "max                   1.000000   73.000000      72.000000      71.000000   \n",
       "\n",
       "       ykmeans  \n",
       "count    218.0  \n",
       "mean       0.0  \n",
       "std        0.0  \n",
       "min        0.0  \n",
       "25%        0.0  \n",
       "50%        0.0  \n",
       "75%        0.0  \n",
       "max        0.0  "
      ]
     },
     "execution_count": 84,
     "metadata": {},
     "output_type": "execute_result"
    }
   ],
   "source": [
    "new_data[new_data.ykmeans==0].describe()"
   ]
  },
  {
   "cell_type": "code",
   "execution_count": 85,
   "id": "c18534ae",
   "metadata": {
    "scrolled": true
   },
   "outputs": [
    {
     "data": {
      "text/html": [
       "<div>\n",
       "<style scoped>\n",
       "    .dataframe tbody tr th:only-of-type {\n",
       "        vertical-align: middle;\n",
       "    }\n",
       "\n",
       "    .dataframe tbody tr th {\n",
       "        vertical-align: top;\n",
       "    }\n",
       "\n",
       "    .dataframe thead th {\n",
       "        text-align: right;\n",
       "    }\n",
       "</style>\n",
       "<table border=\"1\" class=\"dataframe\">\n",
       "  <thead>\n",
       "    <tr style=\"text-align: right;\">\n",
       "      <th></th>\n",
       "      <th>gender</th>\n",
       "      <th>race/ethnicity</th>\n",
       "      <th>parental level of education</th>\n",
       "      <th>lunch</th>\n",
       "      <th>test preparation course</th>\n",
       "      <th>math score</th>\n",
       "      <th>reading score</th>\n",
       "      <th>writing score</th>\n",
       "      <th>ykmeans</th>\n",
       "    </tr>\n",
       "  </thead>\n",
       "  <tbody>\n",
       "    <tr>\n",
       "      <th>count</th>\n",
       "      <td>146.000000</td>\n",
       "      <td>146.000000</td>\n",
       "      <td>146.000000</td>\n",
       "      <td>146.000000</td>\n",
       "      <td>146.000000</td>\n",
       "      <td>146.000000</td>\n",
       "      <td>146.000000</td>\n",
       "      <td>146.000000</td>\n",
       "      <td>146.0</td>\n",
       "    </tr>\n",
       "    <tr>\n",
       "      <th>mean</th>\n",
       "      <td>0.397260</td>\n",
       "      <td>2.602740</td>\n",
       "      <td>2.178082</td>\n",
       "      <td>0.883562</td>\n",
       "      <td>0.458904</td>\n",
       "      <td>87.876712</td>\n",
       "      <td>90.513699</td>\n",
       "      <td>90.808219</td>\n",
       "      <td>1.0</td>\n",
       "    </tr>\n",
       "    <tr>\n",
       "      <th>std</th>\n",
       "      <td>0.491015</td>\n",
       "      <td>1.165477</td>\n",
       "      <td>1.712771</td>\n",
       "      <td>0.321854</td>\n",
       "      <td>0.500024</td>\n",
       "      <td>7.228192</td>\n",
       "      <td>5.515166</td>\n",
       "      <td>5.651140</td>\n",
       "      <td>0.0</td>\n",
       "    </tr>\n",
       "    <tr>\n",
       "      <th>min</th>\n",
       "      <td>0.000000</td>\n",
       "      <td>0.000000</td>\n",
       "      <td>0.000000</td>\n",
       "      <td>0.000000</td>\n",
       "      <td>0.000000</td>\n",
       "      <td>72.000000</td>\n",
       "      <td>80.000000</td>\n",
       "      <td>77.000000</td>\n",
       "      <td>1.0</td>\n",
       "    </tr>\n",
       "    <tr>\n",
       "      <th>25%</th>\n",
       "      <td>0.000000</td>\n",
       "      <td>2.000000</td>\n",
       "      <td>1.000000</td>\n",
       "      <td>1.000000</td>\n",
       "      <td>0.000000</td>\n",
       "      <td>83.000000</td>\n",
       "      <td>87.000000</td>\n",
       "      <td>87.000000</td>\n",
       "      <td>1.0</td>\n",
       "    </tr>\n",
       "    <tr>\n",
       "      <th>50%</th>\n",
       "      <td>0.000000</td>\n",
       "      <td>3.000000</td>\n",
       "      <td>2.000000</td>\n",
       "      <td>1.000000</td>\n",
       "      <td>0.000000</td>\n",
       "      <td>87.500000</td>\n",
       "      <td>89.000000</td>\n",
       "      <td>90.000000</td>\n",
       "      <td>1.0</td>\n",
       "    </tr>\n",
       "    <tr>\n",
       "      <th>75%</th>\n",
       "      <td>1.000000</td>\n",
       "      <td>3.000000</td>\n",
       "      <td>4.000000</td>\n",
       "      <td>1.000000</td>\n",
       "      <td>1.000000</td>\n",
       "      <td>93.000000</td>\n",
       "      <td>95.000000</td>\n",
       "      <td>95.000000</td>\n",
       "      <td>1.0</td>\n",
       "    </tr>\n",
       "    <tr>\n",
       "      <th>max</th>\n",
       "      <td>1.000000</td>\n",
       "      <td>4.000000</td>\n",
       "      <td>5.000000</td>\n",
       "      <td>1.000000</td>\n",
       "      <td>1.000000</td>\n",
       "      <td>100.000000</td>\n",
       "      <td>100.000000</td>\n",
       "      <td>100.000000</td>\n",
       "      <td>1.0</td>\n",
       "    </tr>\n",
       "  </tbody>\n",
       "</table>\n",
       "</div>"
      ],
      "text/plain": [
       "           gender  race/ethnicity  parental level of education       lunch  \\\n",
       "count  146.000000      146.000000                   146.000000  146.000000   \n",
       "mean     0.397260        2.602740                     2.178082    0.883562   \n",
       "std      0.491015        1.165477                     1.712771    0.321854   \n",
       "min      0.000000        0.000000                     0.000000    0.000000   \n",
       "25%      0.000000        2.000000                     1.000000    1.000000   \n",
       "50%      0.000000        3.000000                     2.000000    1.000000   \n",
       "75%      1.000000        3.000000                     4.000000    1.000000   \n",
       "max      1.000000        4.000000                     5.000000    1.000000   \n",
       "\n",
       "       test preparation course  math score  reading score  writing score  \\\n",
       "count               146.000000  146.000000     146.000000     146.000000   \n",
       "mean                  0.458904   87.876712      90.513699      90.808219   \n",
       "std                   0.500024    7.228192       5.515166       5.651140   \n",
       "min                   0.000000   72.000000      80.000000      77.000000   \n",
       "25%                   0.000000   83.000000      87.000000      87.000000   \n",
       "50%                   0.000000   87.500000      89.000000      90.000000   \n",
       "75%                   1.000000   93.000000      95.000000      95.000000   \n",
       "max                   1.000000  100.000000     100.000000     100.000000   \n",
       "\n",
       "       ykmeans  \n",
       "count    146.0  \n",
       "mean       1.0  \n",
       "std        0.0  \n",
       "min        1.0  \n",
       "25%        1.0  \n",
       "50%        1.0  \n",
       "75%        1.0  \n",
       "max        1.0  "
      ]
     },
     "execution_count": 85,
     "metadata": {},
     "output_type": "execute_result"
    }
   ],
   "source": [
    "new_data[new_data.ykmeans==1].describe()"
   ]
  },
  {
   "cell_type": "code",
   "execution_count": 86,
   "id": "f8b6f13c",
   "metadata": {},
   "outputs": [],
   "source": [
    "from sklearn.model_selection import train_test_split\n",
    "xtrain,xtest,ytrain,ytest=train_test_split(x,y,test_size=0.3,random_state=1)"
   ]
  },
  {
   "cell_type": "code",
   "execution_count": 87,
   "id": "4f93a373",
   "metadata": {},
   "outputs": [],
   "source": [
    "from sklearn.metrics import classification_report \n",
    "def mymodel(model):\n",
    "    model.fit(xtrain,ytrain)\n",
    "    \n",
    "    ypred=model.predict(xtest)\n",
    "    \n",
    "    train=model.score(xtrain,ytrain)\n",
    "    test=model.score(xtest,ytest)\n",
    "    \n",
    "    print(f\"Training score:{train}\\nTesting score:{test}\")\n",
    "    print(classification_report(ytest,ypred))\n",
    "    return model"
   ]
  },
  {
   "cell_type": "code",
   "execution_count": 88,
   "id": "8c8b3ac3",
   "metadata": {},
   "outputs": [],
   "source": [
    "from sklearn.naive_bayes import MultinomialNB,GaussianNB,BernoulliNB\n",
    "from sklearn.multiclass import OneVsRestClassifier"
   ]
  },
  {
   "cell_type": "code",
   "execution_count": 89,
   "id": "c1643d5b",
   "metadata": {},
   "outputs": [
    {
     "name": "stdout",
     "output_type": "stream",
     "text": [
      "Training score:0.6819484240687679\n",
      "Testing score:0.69\n",
      "              precision    recall  f1-score   support\n",
      "\n",
      "         0.0       0.71      0.10      0.18        99\n",
      "         1.0       0.69      0.98      0.81       201\n",
      "\n",
      "    accuracy                           0.69       300\n",
      "   macro avg       0.70      0.54      0.49       300\n",
      "weighted avg       0.70      0.69      0.60       300\n",
      "\n"
     ]
    }
   ],
   "source": [
    "mnb=mymodel( MultinomialNB())"
   ]
  },
  {
   "cell_type": "code",
   "execution_count": 90,
   "id": "5835458a",
   "metadata": {},
   "outputs": [
    {
     "name": "stdout",
     "output_type": "stream",
     "text": [
      "Training score:0.66189111747851\n",
      "Testing score:0.67\n",
      "              precision    recall  f1-score   support\n",
      "\n",
      "         0.0       0.00      0.00      0.00        99\n",
      "         1.0       0.67      1.00      0.80       201\n",
      "\n",
      "    accuracy                           0.67       300\n",
      "   macro avg       0.34      0.50      0.40       300\n",
      "weighted avg       0.45      0.67      0.54       300\n",
      "\n"
     ]
    }
   ],
   "source": [
    "bnb=mymodel(BernoulliNB())"
   ]
  },
  {
   "cell_type": "code",
   "execution_count": 91,
   "id": "06eb0d58",
   "metadata": {},
   "outputs": [
    {
     "name": "stdout",
     "output_type": "stream",
     "text": [
      "Training score:0.6489971346704871\n",
      "Testing score:0.6766666666666666\n",
      "              precision    recall  f1-score   support\n",
      "\n",
      "         0.0       0.51      0.47      0.49        99\n",
      "         1.0       0.75      0.78      0.76       201\n",
      "\n",
      "    accuracy                           0.68       300\n",
      "   macro avg       0.63      0.63      0.63       300\n",
      "weighted avg       0.67      0.68      0.67       300\n",
      "\n"
     ]
    }
   ],
   "source": [
    "gnb=mymodel(GaussianNB())"
   ]
  },
  {
   "cell_type": "code",
   "execution_count": 92,
   "id": "890f0269",
   "metadata": {},
   "outputs": [
    {
     "name": "stdout",
     "output_type": "stream",
     "text": [
      "Training score:0.7492836676217765\n",
      "Testing score:0.75\n",
      "              precision    recall  f1-score   support\n",
      "\n",
      "         0.0       0.66      0.51      0.57        99\n",
      "         1.0       0.78      0.87      0.82       201\n",
      "\n",
      "    accuracy                           0.75       300\n",
      "   macro avg       0.72      0.69      0.70       300\n",
      "weighted avg       0.74      0.75      0.74       300\n",
      "\n"
     ]
    }
   ],
   "source": [
    "logreg=mymodel(LogisticRegression())"
   ]
  },
  {
   "cell_type": "code",
   "execution_count": 93,
   "id": "38acac5a",
   "metadata": {},
   "outputs": [
    {
     "name": "stdout",
     "output_type": "stream",
     "text": [
      "Training score:0.7492836676217765\n",
      "Testing score:0.75\n",
      "              precision    recall  f1-score   support\n",
      "\n",
      "         0.0       0.66      0.51      0.57        99\n",
      "         1.0       0.78      0.87      0.82       201\n",
      "\n",
      "    accuracy                           0.75       300\n",
      "   macro avg       0.72      0.69      0.70       300\n",
      "weighted avg       0.74      0.75      0.74       300\n",
      "\n"
     ]
    }
   ],
   "source": [
    "logreg1=mymodel(LogisticRegression(multi_class='ovr'))"
   ]
  },
  {
   "cell_type": "code",
   "execution_count": 94,
   "id": "c3687ee0",
   "metadata": {},
   "outputs": [
    {
     "name": "stdout",
     "output_type": "stream",
     "text": [
      "Training score:0.7492836676217765\n",
      "Testing score:0.75\n",
      "              precision    recall  f1-score   support\n",
      "\n",
      "         0.0       0.66      0.51      0.57        99\n",
      "         1.0       0.78      0.87      0.82       201\n",
      "\n",
      "    accuracy                           0.75       300\n",
      "   macro avg       0.72      0.69      0.70       300\n",
      "weighted avg       0.74      0.75      0.74       300\n",
      "\n"
     ]
    }
   ],
   "source": [
    "ovr=mymodel(OneVsRestClassifier(LogisticRegression()))"
   ]
  },
  {
   "cell_type": "code",
   "execution_count": 95,
   "id": "0b861bcc",
   "metadata": {},
   "outputs": [
    {
     "name": "stdout",
     "output_type": "stream",
     "text": [
      "Training score:0.6819484240687679\n",
      "Testing score:0.69\n",
      "              precision    recall  f1-score   support\n",
      "\n",
      "         0.0       0.71      0.10      0.18        99\n",
      "         1.0       0.69      0.98      0.81       201\n",
      "\n",
      "    accuracy                           0.69       300\n",
      "   macro avg       0.70      0.54      0.49       300\n",
      "weighted avg       0.70      0.69      0.60       300\n",
      "\n"
     ]
    }
   ],
   "source": [
    "ovr=mymodel(OneVsRestClassifier(MultinomialNB()))"
   ]
  },
  {
   "cell_type": "code",
   "execution_count": 96,
   "id": "44021881",
   "metadata": {},
   "outputs": [],
   "source": [
    "#here we import hierarchy \n",
    "\n",
    "from scipy.cluster import hierarchy as hi "
   ]
  },
  {
   "cell_type": "code",
   "execution_count": 97,
   "id": "187c2fd8",
   "metadata": {},
   "outputs": [
    {
     "data": {
      "image/png": "[encoded data removed]",
      "text/plain": [
       "<Figure size 1200x800 with 1 Axes>"
      ]
     },
     "metadata": {},
     "output_type": "display_data"
    }
   ],
   "source": [
    "plt.figure(figsize=(12,8))\n",
    "lk=hi.linkage(x,method='ward')\n",
    "ddg=hi.dendrogram(lk)"
   ]
  },
  {
   "cell_type": "code",
   "execution_count": 98,
   "id": "67fe31d1",
   "metadata": {},
   "outputs": [],
   "source": [
    "#plt.scatter(x[:,0],x[:,1],c=ylabel,s=100,cmap='rainbow')\n",
    "#plt.xlabel(\"math score\")\n",
    "#plt.ylabel(\"lunch\")\n",
    "#plt.show()"
   ]
  },
  {
   "cell_type": "code",
   "execution_count": 99,
   "id": "3beaec11",
   "metadata": {},
   "outputs": [],
   "source": [
    "#here we have imported KNeighborsClassifier\n",
    "\n",
    "from sklearn.neighbors import KNeighborsClassifier"
   ]
  },
  {
   "cell_type": "code",
   "execution_count": 100,
   "id": "bb579846",
   "metadata": {},
   "outputs": [
    {
     "name": "stdout",
     "output_type": "stream",
     "text": [
      "Training score:0.7234957020057307\n",
      "Testing score:0.7166666666666667\n",
      "              precision    recall  f1-score   support\n",
      "\n",
      "         0.0       0.59      0.48      0.53        99\n",
      "         1.0       0.77      0.83      0.80       201\n",
      "\n",
      "    accuracy                           0.72       300\n",
      "   macro avg       0.68      0.66      0.66       300\n",
      "weighted avg       0.71      0.72      0.71       300\n",
      "\n"
     ]
    }
   ],
   "source": [
    "kngb1=mymodel(KNeighborsClassifier(n_neighbors=12))"
   ]
  },
  {
   "cell_type": "code",
   "execution_count": null,
   "id": "7ca48c53",
   "metadata": {},
   "outputs": [],
   "source": []
  }
 ],
 "metadata": {
  "kernelspec": {
   "display_name": "Python 3 (ipykernel)",
   "language": "python",
   "name": "python3"
  },
  "language_info": {
   "codemirror_mode": {
    "name": "ipython",
    "version": 3
   },
   "file_extension": ".py",
   "mimetype": "text/x-python",
   "name": "python",
   "nbconvert_exporter": "python",
   "pygments_lexer": "ipython3",
   "version": "3.10.9"
  }
 },
 "nbformat": 4,
 "nbformat_minor": 5
}
